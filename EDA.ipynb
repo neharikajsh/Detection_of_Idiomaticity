{
  "cells": [
    {
      "cell_type": "code",
      "source": [
        "!git clone https://github.com/niyaryca/Idiomacity-Detection.git"
      ],
      "metadata": {
        "colab": {
          "base_uri": "https://localhost:8080/"
        },
        "id": "UzKwWLcrm_aP",
        "outputId": "8c3b306e-9c44-45ef-f207-b50f77a1e794"
      },
      "execution_count": null,
      "outputs": [
        {
          "output_type": "stream",
          "name": "stdout",
          "text": [
            "Cloning into 'Idiomacity-Detection'...\n",
            "remote: Enumerating objects: 95, done.\u001b[K\n",
            "remote: Counting objects: 100% (95/95), done.\u001b[K\n",
            "remote: Compressing objects: 100% (76/76), done.\u001b[K\n",
            "remote: Total 95 (delta 43), reused 39 (delta 17), pack-reused 0\u001b[K\n",
            "Unpacking objects: 100% (95/95), done.\n"
          ]
        }
      ]
    },
    {
      "cell_type": "markdown",
      "source": [
        "# **Exploratory Data Analysis**"
      ],
      "metadata": {
        "id": "ejOPaKj0vm9F"
      }
    },
    {
      "cell_type": "code",
      "source": [
        "import pandas as pd\n",
        "import numpy as np\n",
        "import matplotlib.pyplot as plt\n",
        "import seaborn as sns"
      ],
      "metadata": {
        "id": "z61DwAC10gjk"
      },
      "execution_count": null,
      "outputs": []
    },
    {
      "cell_type": "markdown",
      "source": [
        "## **Zero Shot Training Data**"
      ],
      "metadata": {
        "id": "sj8q8A19wa5W"
      }
    },
    {
      "cell_type": "code",
      "source": [
        "train_data = pd.read_csv(\"Idiomacity-Detection/Rawdata/train_zero_shot.csv\")\n",
        "train_data"
      ],
      "metadata": {
        "colab": {
          "base_uri": "https://localhost:8080/",
          "height": 423
        },
        "id": "kS8X52C78Y0R",
        "outputId": "aa154bca-8f83-453c-9bd6-c485b5de8ab4"
      },
      "execution_count": null,
      "outputs": [
        {
          "output_type": "execute_result",
          "data": {
            "text/plain": [
              "                         DataID Language           MWE    Setting  \\\n",
              "0      train_zero_shot.EN.168.1       EN  double dutch  zero_shot   \n",
              "1      train_zero_shot.EN.168.2       EN  double dutch  zero_shot   \n",
              "2      train_zero_shot.EN.168.3       EN  double dutch  zero_shot   \n",
              "3      train_zero_shot.EN.168.4       EN  double dutch  zero_shot   \n",
              "4      train_zero_shot.EN.168.5       EN  double dutch  zero_shot   \n",
              "...                         ...      ...           ...        ...   \n",
              "4486   train_zero_shot.PT.351.8       PT  gato-pingado  zero_shot   \n",
              "4487   train_zero_shot.PT.351.9       PT  gato-pingado  zero_shot   \n",
              "4488  train_zero_shot.PT.351.10       PT  gato-pingado  zero_shot   \n",
              "4489  train_zero_shot.PT.351.11       PT  gato-pingado  zero_shot   \n",
              "4490  train_zero_shot.PT.351.12       PT  gato-pingado  zero_shot   \n",
              "\n",
              "                                               Previous  \\\n",
              "0     This inspired others to jump ropes as a leisur...   \n",
              "1     In the age of chivalry a man paid for the woma...   \n",
              "2     To her eternal credit, she kept both India and...   \n",
              "3     While pharmaceutical companies were researchin...   \n",
              "4     Coronavirus in Europe   * Brexit   * Brussels ...   \n",
              "...                                                 ...   \n",
              "4486                                 Era o ano de 1968.   \n",
              "4487  De acordo com informações vazadas de dentro da...   \n",
              "4488  O radialista Roberto Toledo apresentou o show ...   \n",
              "4489  O carnaval em Goiânia também tem espaço para o...   \n",
              "4490  A concentração aconteceu na Avenida Circular, ...   \n",
              "\n",
              "                                                 Target  \\\n",
              "0     There are several theories behind the origin o...   \n",
              "1     Double Dutch also derives from the same era, D...   \n",
              "2     Since 1977 we have had a plethora of Foreign M...   \n",
              "3     Turns out that these people were speaking doub...   \n",
              "4              Is Flemish premier talking double Dutch?   \n",
              "...                                                 ...   \n",
              "4486   A estação de passageiros tranquila, com um ou...   \n",
              "4487  Segundo a fonte, o programa vai seguir um form...   \n",
              "4488  \"Eu fiquei sentado no chão e realmente só tinh...   \n",
              "4489  É o caso do bloco “Gato Pingado”, que reuniu c...   \n",
              "4490  De acordo com presidente do bloco, Paulo de Tá...   \n",
              "\n",
              "                                                   Next  Label  \n",
              "0     The most popular theory states that “Double Du...      0  \n",
              "1     There are many phrases that include the word: ...      0  \n",
              "2     We need to exclude from that list the late Mr ...      0  \n",
              "3     So why aren’t Big Macs sold all over the world...      0  \n",
              "4     Three months before the Belgians take over the...      0  \n",
              "...                                                 ...    ...  \n",
              "4486  Com os primeiros raios solares, o potente DC 8...      0  \n",
              "4487  Leonardo fica inchado, perde a voz e vício mor...      0  \n",
              "4488  Entre os poucos espectadores estava o advogado...      0  \n",
              "4489  Segundo os organizadores, quando criaram o blo...      1  \n",
              "4490   “A diferença do bloco é que realmente é um ca...      1  \n",
              "\n",
              "[4491 rows x 8 columns]"
            ],
            "text/html": [
              "\n",
              "  <div id=\"df-14cafd03-290c-4607-b001-436784e43abe\">\n",
              "    <div class=\"colab-df-container\">\n",
              "      <div>\n",
              "<style scoped>\n",
              "    .dataframe tbody tr th:only-of-type {\n",
              "        vertical-align: middle;\n",
              "    }\n",
              "\n",
              "    .dataframe tbody tr th {\n",
              "        vertical-align: top;\n",
              "    }\n",
              "\n",
              "    .dataframe thead th {\n",
              "        text-align: right;\n",
              "    }\n",
              "</style>\n",
              "<table border=\"1\" class=\"dataframe\">\n",
              "  <thead>\n",
              "    <tr style=\"text-align: right;\">\n",
              "      <th></th>\n",
              "      <th>DataID</th>\n",
              "      <th>Language</th>\n",
              "      <th>MWE</th>\n",
              "      <th>Setting</th>\n",
              "      <th>Previous</th>\n",
              "      <th>Target</th>\n",
              "      <th>Next</th>\n",
              "      <th>Label</th>\n",
              "    </tr>\n",
              "  </thead>\n",
              "  <tbody>\n",
              "    <tr>\n",
              "      <th>0</th>\n",
              "      <td>train_zero_shot.EN.168.1</td>\n",
              "      <td>EN</td>\n",
              "      <td>double dutch</td>\n",
              "      <td>zero_shot</td>\n",
              "      <td>This inspired others to jump ropes as a leisur...</td>\n",
              "      <td>There are several theories behind the origin o...</td>\n",
              "      <td>The most popular theory states that “Double Du...</td>\n",
              "      <td>0</td>\n",
              "    </tr>\n",
              "    <tr>\n",
              "      <th>1</th>\n",
              "      <td>train_zero_shot.EN.168.2</td>\n",
              "      <td>EN</td>\n",
              "      <td>double dutch</td>\n",
              "      <td>zero_shot</td>\n",
              "      <td>In the age of chivalry a man paid for the woma...</td>\n",
              "      <td>Double Dutch also derives from the same era, D...</td>\n",
              "      <td>There are many phrases that include the word: ...</td>\n",
              "      <td>0</td>\n",
              "    </tr>\n",
              "    <tr>\n",
              "      <th>2</th>\n",
              "      <td>train_zero_shot.EN.168.3</td>\n",
              "      <td>EN</td>\n",
              "      <td>double dutch</td>\n",
              "      <td>zero_shot</td>\n",
              "      <td>To her eternal credit, she kept both India and...</td>\n",
              "      <td>Since 1977 we have had a plethora of Foreign M...</td>\n",
              "      <td>We need to exclude from that list the late Mr ...</td>\n",
              "      <td>0</td>\n",
              "    </tr>\n",
              "    <tr>\n",
              "      <th>3</th>\n",
              "      <td>train_zero_shot.EN.168.4</td>\n",
              "      <td>EN</td>\n",
              "      <td>double dutch</td>\n",
              "      <td>zero_shot</td>\n",
              "      <td>While pharmaceutical companies were researchin...</td>\n",
              "      <td>Turns out that these people were speaking doub...</td>\n",
              "      <td>So why aren’t Big Macs sold all over the world...</td>\n",
              "      <td>0</td>\n",
              "    </tr>\n",
              "    <tr>\n",
              "      <th>4</th>\n",
              "      <td>train_zero_shot.EN.168.5</td>\n",
              "      <td>EN</td>\n",
              "      <td>double dutch</td>\n",
              "      <td>zero_shot</td>\n",
              "      <td>Coronavirus in Europe   * Brexit   * Brussels ...</td>\n",
              "      <td>Is Flemish premier talking double Dutch?</td>\n",
              "      <td>Three months before the Belgians take over the...</td>\n",
              "      <td>0</td>\n",
              "    </tr>\n",
              "    <tr>\n",
              "      <th>...</th>\n",
              "      <td>...</td>\n",
              "      <td>...</td>\n",
              "      <td>...</td>\n",
              "      <td>...</td>\n",
              "      <td>...</td>\n",
              "      <td>...</td>\n",
              "      <td>...</td>\n",
              "      <td>...</td>\n",
              "    </tr>\n",
              "    <tr>\n",
              "      <th>4486</th>\n",
              "      <td>train_zero_shot.PT.351.8</td>\n",
              "      <td>PT</td>\n",
              "      <td>gato-pingado</td>\n",
              "      <td>zero_shot</td>\n",
              "      <td>Era o ano de 1968.</td>\n",
              "      <td>A estação de passageiros tranquila, com um ou...</td>\n",
              "      <td>Com os primeiros raios solares, o potente DC 8...</td>\n",
              "      <td>0</td>\n",
              "    </tr>\n",
              "    <tr>\n",
              "      <th>4487</th>\n",
              "      <td>train_zero_shot.PT.351.9</td>\n",
              "      <td>PT</td>\n",
              "      <td>gato-pingado</td>\n",
              "      <td>zero_shot</td>\n",
              "      <td>De acordo com informações vazadas de dentro da...</td>\n",
              "      <td>Segundo a fonte, o programa vai seguir um form...</td>\n",
              "      <td>Leonardo fica inchado, perde a voz e vício mor...</td>\n",
              "      <td>0</td>\n",
              "    </tr>\n",
              "    <tr>\n",
              "      <th>4488</th>\n",
              "      <td>train_zero_shot.PT.351.10</td>\n",
              "      <td>PT</td>\n",
              "      <td>gato-pingado</td>\n",
              "      <td>zero_shot</td>\n",
              "      <td>O radialista Roberto Toledo apresentou o show ...</td>\n",
              "      <td>\"Eu fiquei sentado no chão e realmente só tinh...</td>\n",
              "      <td>Entre os poucos espectadores estava o advogado...</td>\n",
              "      <td>0</td>\n",
              "    </tr>\n",
              "    <tr>\n",
              "      <th>4489</th>\n",
              "      <td>train_zero_shot.PT.351.11</td>\n",
              "      <td>PT</td>\n",
              "      <td>gato-pingado</td>\n",
              "      <td>zero_shot</td>\n",
              "      <td>O carnaval em Goiânia também tem espaço para o...</td>\n",
              "      <td>É o caso do bloco “Gato Pingado”, que reuniu c...</td>\n",
              "      <td>Segundo os organizadores, quando criaram o blo...</td>\n",
              "      <td>1</td>\n",
              "    </tr>\n",
              "    <tr>\n",
              "      <th>4490</th>\n",
              "      <td>train_zero_shot.PT.351.12</td>\n",
              "      <td>PT</td>\n",
              "      <td>gato-pingado</td>\n",
              "      <td>zero_shot</td>\n",
              "      <td>A concentração aconteceu na Avenida Circular, ...</td>\n",
              "      <td>De acordo com presidente do bloco, Paulo de Tá...</td>\n",
              "      <td>“A diferença do bloco é que realmente é um ca...</td>\n",
              "      <td>1</td>\n",
              "    </tr>\n",
              "  </tbody>\n",
              "</table>\n",
              "<p>4491 rows × 8 columns</p>\n",
              "</div>\n",
              "      <button class=\"colab-df-convert\" onclick=\"convertToInteractive('df-14cafd03-290c-4607-b001-436784e43abe')\"\n",
              "              title=\"Convert this dataframe to an interactive table.\"\n",
              "              style=\"display:none;\">\n",
              "        \n",
              "  <svg xmlns=\"http://www.w3.org/2000/svg\" height=\"24px\"viewBox=\"0 0 24 24\"\n",
              "       width=\"24px\">\n",
              "    <path d=\"M0 0h24v24H0V0z\" fill=\"none\"/>\n",
              "    <path d=\"M18.56 5.44l.94 2.06.94-2.06 2.06-.94-2.06-.94-.94-2.06-.94 2.06-2.06.94zm-11 1L8.5 8.5l.94-2.06 2.06-.94-2.06-.94L8.5 2.5l-.94 2.06-2.06.94zm10 10l.94 2.06.94-2.06 2.06-.94-2.06-.94-.94-2.06-.94 2.06-2.06.94z\"/><path d=\"M17.41 7.96l-1.37-1.37c-.4-.4-.92-.59-1.43-.59-.52 0-1.04.2-1.43.59L10.3 9.45l-7.72 7.72c-.78.78-.78 2.05 0 2.83L4 21.41c.39.39.9.59 1.41.59.51 0 1.02-.2 1.41-.59l7.78-7.78 2.81-2.81c.8-.78.8-2.07 0-2.86zM5.41 20L4 18.59l7.72-7.72 1.47 1.35L5.41 20z\"/>\n",
              "  </svg>\n",
              "      </button>\n",
              "      \n",
              "  <style>\n",
              "    .colab-df-container {\n",
              "      display:flex;\n",
              "      flex-wrap:wrap;\n",
              "      gap: 12px;\n",
              "    }\n",
              "\n",
              "    .colab-df-convert {\n",
              "      background-color: #E8F0FE;\n",
              "      border: none;\n",
              "      border-radius: 50%;\n",
              "      cursor: pointer;\n",
              "      display: none;\n",
              "      fill: #1967D2;\n",
              "      height: 32px;\n",
              "      padding: 0 0 0 0;\n",
              "      width: 32px;\n",
              "    }\n",
              "\n",
              "    .colab-df-convert:hover {\n",
              "      background-color: #E2EBFA;\n",
              "      box-shadow: 0px 1px 2px rgba(60, 64, 67, 0.3), 0px 1px 3px 1px rgba(60, 64, 67, 0.15);\n",
              "      fill: #174EA6;\n",
              "    }\n",
              "\n",
              "    [theme=dark] .colab-df-convert {\n",
              "      background-color: #3B4455;\n",
              "      fill: #D2E3FC;\n",
              "    }\n",
              "\n",
              "    [theme=dark] .colab-df-convert:hover {\n",
              "      background-color: #434B5C;\n",
              "      box-shadow: 0px 1px 3px 1px rgba(0, 0, 0, 0.15);\n",
              "      filter: drop-shadow(0px 1px 2px rgba(0, 0, 0, 0.3));\n",
              "      fill: #FFFFFF;\n",
              "    }\n",
              "  </style>\n",
              "\n",
              "      <script>\n",
              "        const buttonEl =\n",
              "          document.querySelector('#df-14cafd03-290c-4607-b001-436784e43abe button.colab-df-convert');\n",
              "        buttonEl.style.display =\n",
              "          google.colab.kernel.accessAllowed ? 'block' : 'none';\n",
              "\n",
              "        async function convertToInteractive(key) {\n",
              "          const element = document.querySelector('#df-14cafd03-290c-4607-b001-436784e43abe');\n",
              "          const dataTable =\n",
              "            await google.colab.kernel.invokeFunction('convertToInteractive',\n",
              "                                                     [key], {});\n",
              "          if (!dataTable) return;\n",
              "\n",
              "          const docLinkHtml = 'Like what you see? Visit the ' +\n",
              "            '<a target=\"_blank\" href=https://colab.research.google.com/notebooks/data_table.ipynb>data table notebook</a>'\n",
              "            + ' to learn more about interactive tables.';\n",
              "          element.innerHTML = '';\n",
              "          dataTable['output_type'] = 'display_data';\n",
              "          await google.colab.output.renderOutput(dataTable, element);\n",
              "          const docLink = document.createElement('div');\n",
              "          docLink.innerHTML = docLinkHtml;\n",
              "          element.appendChild(docLink);\n",
              "        }\n",
              "      </script>\n",
              "    </div>\n",
              "  </div>\n",
              "  "
            ]
          },
          "metadata": {},
          "execution_count": 9
        }
      ]
    },
    {
      "cell_type": "code",
      "source": [
        "null_value = train_data.loc[train_data['Next'].isnull()]\n",
        "null_value"
      ],
      "metadata": {
        "colab": {
          "base_uri": "https://localhost:8080/",
          "height": 112
        },
        "id": "rrFZ-lyN9E4-",
        "outputId": "c99805e1-4501-4710-c058-c29045eefdcb"
      },
      "execution_count": null,
      "outputs": [
        {
          "output_type": "execute_result",
          "data": {
            "text/plain": [
              "                         DataID Language         MWE    Setting  \\\n",
              "870   train_zero_shot.EN.112.23       EN    nest egg  zero_shot   \n",
              "1097  train_zero_shot.EN.266.18       EN  agony aunt  zero_shot   \n",
              "\n",
              "                                               Previous  \\\n",
              "870   It just diminishes the desperation of relying ...   \n",
              "1097  The TV star had previously revealed she has be...   \n",
              "\n",
              "                                                 Target Next  Label  \n",
              "870   It is the one nest egg that can build that int...  NaN      0  \n",
              "1097  She discussed her heartache while giving advic...  NaN      0  "
            ],
            "text/html": [
              "\n",
              "  <div id=\"df-14822e3d-70f9-4808-b72b-acc0fd63a8ff\">\n",
              "    <div class=\"colab-df-container\">\n",
              "      <div>\n",
              "<style scoped>\n",
              "    .dataframe tbody tr th:only-of-type {\n",
              "        vertical-align: middle;\n",
              "    }\n",
              "\n",
              "    .dataframe tbody tr th {\n",
              "        vertical-align: top;\n",
              "    }\n",
              "\n",
              "    .dataframe thead th {\n",
              "        text-align: right;\n",
              "    }\n",
              "</style>\n",
              "<table border=\"1\" class=\"dataframe\">\n",
              "  <thead>\n",
              "    <tr style=\"text-align: right;\">\n",
              "      <th></th>\n",
              "      <th>DataID</th>\n",
              "      <th>Language</th>\n",
              "      <th>MWE</th>\n",
              "      <th>Setting</th>\n",
              "      <th>Previous</th>\n",
              "      <th>Target</th>\n",
              "      <th>Next</th>\n",
              "      <th>Label</th>\n",
              "    </tr>\n",
              "  </thead>\n",
              "  <tbody>\n",
              "    <tr>\n",
              "      <th>870</th>\n",
              "      <td>train_zero_shot.EN.112.23</td>\n",
              "      <td>EN</td>\n",
              "      <td>nest egg</td>\n",
              "      <td>zero_shot</td>\n",
              "      <td>It just diminishes the desperation of relying ...</td>\n",
              "      <td>It is the one nest egg that can build that int...</td>\n",
              "      <td>NaN</td>\n",
              "      <td>0</td>\n",
              "    </tr>\n",
              "    <tr>\n",
              "      <th>1097</th>\n",
              "      <td>train_zero_shot.EN.266.18</td>\n",
              "      <td>EN</td>\n",
              "      <td>agony aunt</td>\n",
              "      <td>zero_shot</td>\n",
              "      <td>The TV star had previously revealed she has be...</td>\n",
              "      <td>She discussed her heartache while giving advic...</td>\n",
              "      <td>NaN</td>\n",
              "      <td>0</td>\n",
              "    </tr>\n",
              "  </tbody>\n",
              "</table>\n",
              "</div>\n",
              "      <button class=\"colab-df-convert\" onclick=\"convertToInteractive('df-14822e3d-70f9-4808-b72b-acc0fd63a8ff')\"\n",
              "              title=\"Convert this dataframe to an interactive table.\"\n",
              "              style=\"display:none;\">\n",
              "        \n",
              "  <svg xmlns=\"http://www.w3.org/2000/svg\" height=\"24px\"viewBox=\"0 0 24 24\"\n",
              "       width=\"24px\">\n",
              "    <path d=\"M0 0h24v24H0V0z\" fill=\"none\"/>\n",
              "    <path d=\"M18.56 5.44l.94 2.06.94-2.06 2.06-.94-2.06-.94-.94-2.06-.94 2.06-2.06.94zm-11 1L8.5 8.5l.94-2.06 2.06-.94-2.06-.94L8.5 2.5l-.94 2.06-2.06.94zm10 10l.94 2.06.94-2.06 2.06-.94-2.06-.94-.94-2.06-.94 2.06-2.06.94z\"/><path d=\"M17.41 7.96l-1.37-1.37c-.4-.4-.92-.59-1.43-.59-.52 0-1.04.2-1.43.59L10.3 9.45l-7.72 7.72c-.78.78-.78 2.05 0 2.83L4 21.41c.39.39.9.59 1.41.59.51 0 1.02-.2 1.41-.59l7.78-7.78 2.81-2.81c.8-.78.8-2.07 0-2.86zM5.41 20L4 18.59l7.72-7.72 1.47 1.35L5.41 20z\"/>\n",
              "  </svg>\n",
              "      </button>\n",
              "      \n",
              "  <style>\n",
              "    .colab-df-container {\n",
              "      display:flex;\n",
              "      flex-wrap:wrap;\n",
              "      gap: 12px;\n",
              "    }\n",
              "\n",
              "    .colab-df-convert {\n",
              "      background-color: #E8F0FE;\n",
              "      border: none;\n",
              "      border-radius: 50%;\n",
              "      cursor: pointer;\n",
              "      display: none;\n",
              "      fill: #1967D2;\n",
              "      height: 32px;\n",
              "      padding: 0 0 0 0;\n",
              "      width: 32px;\n",
              "    }\n",
              "\n",
              "    .colab-df-convert:hover {\n",
              "      background-color: #E2EBFA;\n",
              "      box-shadow: 0px 1px 2px rgba(60, 64, 67, 0.3), 0px 1px 3px 1px rgba(60, 64, 67, 0.15);\n",
              "      fill: #174EA6;\n",
              "    }\n",
              "\n",
              "    [theme=dark] .colab-df-convert {\n",
              "      background-color: #3B4455;\n",
              "      fill: #D2E3FC;\n",
              "    }\n",
              "\n",
              "    [theme=dark] .colab-df-convert:hover {\n",
              "      background-color: #434B5C;\n",
              "      box-shadow: 0px 1px 3px 1px rgba(0, 0, 0, 0.15);\n",
              "      filter: drop-shadow(0px 1px 2px rgba(0, 0, 0, 0.3));\n",
              "      fill: #FFFFFF;\n",
              "    }\n",
              "  </style>\n",
              "\n",
              "      <script>\n",
              "        const buttonEl =\n",
              "          document.querySelector('#df-14822e3d-70f9-4808-b72b-acc0fd63a8ff button.colab-df-convert');\n",
              "        buttonEl.style.display =\n",
              "          google.colab.kernel.accessAllowed ? 'block' : 'none';\n",
              "\n",
              "        async function convertToInteractive(key) {\n",
              "          const element = document.querySelector('#df-14822e3d-70f9-4808-b72b-acc0fd63a8ff');\n",
              "          const dataTable =\n",
              "            await google.colab.kernel.invokeFunction('convertToInteractive',\n",
              "                                                     [key], {});\n",
              "          if (!dataTable) return;\n",
              "\n",
              "          const docLinkHtml = 'Like what you see? Visit the ' +\n",
              "            '<a target=\"_blank\" href=https://colab.research.google.com/notebooks/data_table.ipynb>data table notebook</a>'\n",
              "            + ' to learn more about interactive tables.';\n",
              "          element.innerHTML = '';\n",
              "          dataTable['output_type'] = 'display_data';\n",
              "          await google.colab.output.renderOutput(dataTable, element);\n",
              "          const docLink = document.createElement('div');\n",
              "          docLink.innerHTML = docLinkHtml;\n",
              "          element.appendChild(docLink);\n",
              "        }\n",
              "      </script>\n",
              "    </div>\n",
              "  </div>\n",
              "  "
            ]
          },
          "metadata": {},
          "execution_count": 10
        }
      ]
    },
    {
      "cell_type": "code",
      "source": [
        "train_data=train_data.dropna()"
      ],
      "metadata": {
        "id": "B6scdtEIxhcn"
      },
      "execution_count": null,
      "outputs": []
    },
    {
      "cell_type": "markdown",
      "source": [
        "### **Language Column**"
      ],
      "metadata": {
        "id": "ZHI3GtPszN3i"
      }
    },
    {
      "cell_type": "code",
      "source": [
        "english_train_data=train_data.loc[train_data['Language'] =='EN']\n",
        "portuguese_train_data=train_data.loc[train_data['Language'] =='PT']"
      ],
      "metadata": {
        "id": "-7cUHRKhzTAC"
      },
      "execution_count": null,
      "outputs": []
    },
    {
      "cell_type": "code",
      "source": [
        "language_classes = train_data.Language.unique()\n",
        "language_counts = []\n",
        "\n",
        "for i in language_classes:\n",
        "  count = len(train_data[train_data.Language==i])\n",
        "  language_counts.append(count)\n",
        "\n",
        "plt.figure(figsize=(5, 5))\n",
        "plt.bar(language_classes,language_counts,color=['blue','green'])\n",
        "plt.title(\"Language Distribution in Training Set\")\n",
        "plt.show()\n",
        "\n",
        "print('\\n')\n",
        "print(train_data['Language'].value_counts())"
      ],
      "metadata": {
        "colab": {
          "base_uri": "https://localhost:8080/",
          "height": 428
        },
        "id": "sIMGudDw0M9w",
        "outputId": "73174173-27fe-4e29-aa5a-3025fb1f5875"
      },
      "execution_count": null,
      "outputs": [
        {
          "output_type": "display_data",
          "data": {
            "text/plain": [
              "<Figure size 360x360 with 1 Axes>"
            ],
            "image/png": "[encoded data removed]"
          },
          "metadata": {
            "needs_background": "light"
          }
        },
        {
          "output_type": "stream",
          "name": "stdout",
          "text": [
            "\n",
            "\n",
            "EN    3325\n",
            "PT    1164\n",
            "Name: Language, dtype: int64\n"
          ]
        }
      ]
    },
    {
      "cell_type": "code",
      "source": [
        "\n",
        "\n",
        "explode = [0.1, 0]\n",
        "fig, ax = plt.subplots(figsize=(5, 5))\n",
        "\n",
        "patches, texts, pcts = ax.pie(\n",
        "    language_counts, labels=['English','Portuguese'], autopct='%.1f%%',\n",
        "    textprops={'size': 'x-large'}\n",
        "    ,shadow=True,explode=explode)\n",
        "for i, patch in enumerate(patches):\n",
        "  texts[i].set_color(patch.get_facecolor())\n",
        "plt.setp(pcts, color='white')\n",
        "plt.setp(texts, fontweight=1000)\n",
        "# plt.title(\"Ratio of Idiomatic and Non-Idiomatic sentences\")\n",
        "plt.tight_layout()\n",
        "\n",
        "print('\\n')\n",
        "print(train_data['Label'].value_counts())"
      ],
      "metadata": {
        "colab": {
          "base_uri": "https://localhost:8080/",
          "height": 416
        },
        "id": "LZ5WLdEG1OUn",
        "outputId": "2026d154-fbdb-46ac-f334-cb4e21c6f49a"
      },
      "execution_count": null,
      "outputs": [
        {
          "output_type": "stream",
          "name": "stdout",
          "text": [
            "\n",
            "\n",
            "0    2533\n",
            "1    1956\n",
            "Name: Label, dtype: int64\n"
          ]
        },
        {
          "output_type": "display_data",
          "data": {
            "text/plain": [
              "<Figure size 360x360 with 1 Axes>"
            ],
            "image/png": "[encoded data removed]"
          },
          "metadata": {}
        }
      ]
    },
    {
      "cell_type": "markdown",
      "source": [
        "`About 75% of the rows are in English at 3325 where as only 25% of it are in Portuguese at 1164`\n",
        "\n",
        "---\n",
        "\n",
        "\n",
        "\n",
        "\n"
      ],
      "metadata": {
        "id": "OOAmXom61Phk"
      }
    },
    {
      "cell_type": "markdown",
      "source": [
        "### **Idioms or not?**"
      ],
      "metadata": {
        "id": "eduXUUxc193H"
      }
    },
    {
      "cell_type": "code",
      "source": [
        "idiomatic_classes = train_data.Label.unique()\n",
        "idiomatic_counts = []\n",
        "\n",
        "for i in idiomatic_classes:\n",
        "  count = len(train_data[train_data.Label==i])\n",
        "  idiomatic_counts.append(count)\n",
        "\n",
        "explode = [0.1, 0]\n",
        "fig, ax = plt.subplots(figsize=(5, 5))\n",
        "\n",
        "patches, texts, pcts = ax.pie(\n",
        "    idiomatic_counts, labels=['Idiomatic','Not Idiomatic'], autopct='%.1f%%',\n",
        "    textprops={'size': 'x-large'}\n",
        "    ,shadow=True,explode=explode)\n",
        "for i, patch in enumerate(patches):\n",
        "  texts[i].set_color(patch.get_facecolor())\n",
        "plt.setp(pcts, color='white')\n",
        "plt.setp(texts, fontweight=1000)\n",
        "plt.title(\"Ratio of Idiomatic and Non-Idiomatic sentences\")\n",
        "plt.tight_layout()\n",
        "\n",
        "print('\\n')\n",
        "print(train_data['Label'].value_counts())"
      ],
      "metadata": {
        "colab": {
          "base_uri": "https://localhost:8080/",
          "height": 461
        },
        "id": "QlZnjxyK0_CE",
        "outputId": "9ac380a1-f4b5-43b5-92d4-f07672e368a3"
      },
      "execution_count": null,
      "outputs": [
        {
          "output_type": "stream",
          "name": "stdout",
          "text": [
            "\n",
            "\n",
            "0    2533\n",
            "1    1956\n",
            "Name: Label, dtype: int64\n"
          ]
        },
        {
          "output_type": "display_data",
          "data": {
            "text/plain": [
              "<Figure size 360x360 with 1 Axes>"
            ],
            "image/png": "[encoded data removed]"
          },
          "metadata": {}
        }
      ]
    },
    {
      "cell_type": "markdown",
      "source": [
        "### **MWE Column**"
      ],
      "metadata": {
        "id": "mnc7eXb7yXHa"
      }
    },
    {
      "cell_type": "code",
      "source": [
        "train_data['MWE'].value_counts().count()"
      ],
      "metadata": {
        "colab": {
          "base_uri": "https://localhost:8080/"
        },
        "id": "n0pMFkNPyyci",
        "outputId": "c64fe777-6644-4523-906e-f70bc82c99a4"
      },
      "execution_count": null,
      "outputs": [
        {
          "output_type": "execute_result",
          "data": {
            "text/plain": [
              "236"
            ]
          },
          "metadata": {},
          "execution_count": 16
        }
      ]
    },
    {
      "cell_type": "code",
      "source": [
        "english_train_data['MWE'].value_counts().count()"
      ],
      "metadata": {
        "colab": {
          "base_uri": "https://localhost:8080/"
        },
        "id": "xJRnfFcNxpZv",
        "outputId": "21abed8c-1863-413d-9e72-44fe4dc9ee67"
      },
      "execution_count": null,
      "outputs": [
        {
          "output_type": "execute_result",
          "data": {
            "text/plain": [
              "163"
            ]
          },
          "metadata": {},
          "execution_count": 17
        }
      ]
    },
    {
      "cell_type": "code",
      "source": [
        "# Groupby by country\n",
        "mwe= english_train_data['MWE'].value_counts().rename_axis('MWE').reset_index(name='Quantity')\n",
        "mwe_english = mwe\n",
        "mwe=mwe.head(20)\n",
        "\n",
        "plt.figure(figsize=(7,10))\n",
        "sns.barplot(y='MWE',x='Quantity',data=mwe)\n"
      ],
      "metadata": {
        "colab": {
          "base_uri": "https://localhost:8080/",
          "height": 624
        },
        "id": "ZCuyZt-MZ9EF",
        "outputId": "da5266ba-0123-4115-f8c6-befbb1344ce6"
      },
      "execution_count": null,
      "outputs": [
        {
          "output_type": "execute_result",
          "data": {
            "text/plain": [
              "<matplotlib.axes._subplots.AxesSubplot at 0x7f0905ff46a0>"
            ]
          },
          "metadata": {},
          "execution_count": 18
        },
        {
          "output_type": "display_data",
          "data": {
            "text/plain": [
              "<Figure size 504x720 with 1 Axes>"
            ],
            "image/png": "[encoded data removed]"
          },
          "metadata": {
            "needs_background": "light"
          }
        }
      ]
    },
    {
      "cell_type": "code",
      "source": [
        "list_english_mwe = mwe_english['MWE'].tolist()\n",
        "one_list = []\n",
        "zero_list=[]\n",
        "for column in list_english_mwe:\n",
        "  english_0 = english_train_data.loc[(english_train_data['MWE'] == column) & (english_train_data['Label'] ==0)]\n",
        "  english_1 = english_train_data.loc[(english_train_data['MWE'] == column) & (english_train_data['Label'] ==1)]\n",
        "  zero_list.append(len(english_0))\n",
        "  one_list.append(len(english_1))\n",
        "\n",
        "mwe_english[\"Idiomatic\"] = zero_list\n",
        "mwe_english['Non_Idiomatic'] = one_list\n",
        "mwe_english"
      ],
      "metadata": {
        "colab": {
          "base_uri": "https://localhost:8080/",
          "height": 423
        },
        "id": "JMwAwd-OwDK1",
        "outputId": "3f25f853-477d-44a8-da8f-f1b59a16aa55"
      },
      "execution_count": null,
      "outputs": [
        {
          "output_type": "execute_result",
          "data": {
            "text/plain": [
              "                 MWE  Quantity  Idiomatic  Non_Idiomatic\n",
              "0    information age        34          0             34\n",
              "1         brass ring        32         17             15\n",
              "2         peace talk        31         28              3\n",
              "3         fairy tale        31         29              2\n",
              "4        fresh water        31          0             31\n",
              "..               ...       ...        ...            ...\n",
              "158         copy cat        11         11              0\n",
              "159      memory lane        11          8              3\n",
              "160   crocodile tear        11         11              0\n",
              "161     front runner         9          9              0\n",
              "162     double dutch         9          5              4\n",
              "\n",
              "[163 rows x 4 columns]"
            ],
            "text/html": [
              "\n",
              "  <div id=\"df-2b21248e-64ca-43af-b636-8786dbd656ad\">\n",
              "    <div class=\"colab-df-container\">\n",
              "      <div>\n",
              "<style scoped>\n",
              "    .dataframe tbody tr th:only-of-type {\n",
              "        vertical-align: middle;\n",
              "    }\n",
              "\n",
              "    .dataframe tbody tr th {\n",
              "        vertical-align: top;\n",
              "    }\n",
              "\n",
              "    .dataframe thead th {\n",
              "        text-align: right;\n",
              "    }\n",
              "</style>\n",
              "<table border=\"1\" class=\"dataframe\">\n",
              "  <thead>\n",
              "    <tr style=\"text-align: right;\">\n",
              "      <th></th>\n",
              "      <th>MWE</th>\n",
              "      <th>Quantity</th>\n",
              "      <th>Idiomatic</th>\n",
              "      <th>Non_Idiomatic</th>\n",
              "    </tr>\n",
              "  </thead>\n",
              "  <tbody>\n",
              "    <tr>\n",
              "      <th>0</th>\n",
              "      <td>information age</td>\n",
              "      <td>34</td>\n",
              "      <td>0</td>\n",
              "      <td>34</td>\n",
              "    </tr>\n",
              "    <tr>\n",
              "      <th>1</th>\n",
              "      <td>brass ring</td>\n",
              "      <td>32</td>\n",
              "      <td>17</td>\n",
              "      <td>15</td>\n",
              "    </tr>\n",
              "    <tr>\n",
              "      <th>2</th>\n",
              "      <td>peace talk</td>\n",
              "      <td>31</td>\n",
              "      <td>28</td>\n",
              "      <td>3</td>\n",
              "    </tr>\n",
              "    <tr>\n",
              "      <th>3</th>\n",
              "      <td>fairy tale</td>\n",
              "      <td>31</td>\n",
              "      <td>29</td>\n",
              "      <td>2</td>\n",
              "    </tr>\n",
              "    <tr>\n",
              "      <th>4</th>\n",
              "      <td>fresh water</td>\n",
              "      <td>31</td>\n",
              "      <td>0</td>\n",
              "      <td>31</td>\n",
              "    </tr>\n",
              "    <tr>\n",
              "      <th>...</th>\n",
              "      <td>...</td>\n",
              "      <td>...</td>\n",
              "      <td>...</td>\n",
              "      <td>...</td>\n",
              "    </tr>\n",
              "    <tr>\n",
              "      <th>158</th>\n",
              "      <td>copy cat</td>\n",
              "      <td>11</td>\n",
              "      <td>11</td>\n",
              "      <td>0</td>\n",
              "    </tr>\n",
              "    <tr>\n",
              "      <th>159</th>\n",
              "      <td>memory lane</td>\n",
              "      <td>11</td>\n",
              "      <td>8</td>\n",
              "      <td>3</td>\n",
              "    </tr>\n",
              "    <tr>\n",
              "      <th>160</th>\n",
              "      <td>crocodile tear</td>\n",
              "      <td>11</td>\n",
              "      <td>11</td>\n",
              "      <td>0</td>\n",
              "    </tr>\n",
              "    <tr>\n",
              "      <th>161</th>\n",
              "      <td>front runner</td>\n",
              "      <td>9</td>\n",
              "      <td>9</td>\n",
              "      <td>0</td>\n",
              "    </tr>\n",
              "    <tr>\n",
              "      <th>162</th>\n",
              "      <td>double dutch</td>\n",
              "      <td>9</td>\n",
              "      <td>5</td>\n",
              "      <td>4</td>\n",
              "    </tr>\n",
              "  </tbody>\n",
              "</table>\n",
              "<p>163 rows × 4 columns</p>\n",
              "</div>\n",
              "      <button class=\"colab-df-convert\" onclick=\"convertToInteractive('df-2b21248e-64ca-43af-b636-8786dbd656ad')\"\n",
              "              title=\"Convert this dataframe to an interactive table.\"\n",
              "              style=\"display:none;\">\n",
              "        \n",
              "  <svg xmlns=\"http://www.w3.org/2000/svg\" height=\"24px\"viewBox=\"0 0 24 24\"\n",
              "       width=\"24px\">\n",
              "    <path d=\"M0 0h24v24H0V0z\" fill=\"none\"/>\n",
              "    <path d=\"M18.56 5.44l.94 2.06.94-2.06 2.06-.94-2.06-.94-.94-2.06-.94 2.06-2.06.94zm-11 1L8.5 8.5l.94-2.06 2.06-.94-2.06-.94L8.5 2.5l-.94 2.06-2.06.94zm10 10l.94 2.06.94-2.06 2.06-.94-2.06-.94-.94-2.06-.94 2.06-2.06.94z\"/><path d=\"M17.41 7.96l-1.37-1.37c-.4-.4-.92-.59-1.43-.59-.52 0-1.04.2-1.43.59L10.3 9.45l-7.72 7.72c-.78.78-.78 2.05 0 2.83L4 21.41c.39.39.9.59 1.41.59.51 0 1.02-.2 1.41-.59l7.78-7.78 2.81-2.81c.8-.78.8-2.07 0-2.86zM5.41 20L4 18.59l7.72-7.72 1.47 1.35L5.41 20z\"/>\n",
              "  </svg>\n",
              "      </button>\n",
              "      \n",
              "  <style>\n",
              "    .colab-df-container {\n",
              "      display:flex;\n",
              "      flex-wrap:wrap;\n",
              "      gap: 12px;\n",
              "    }\n",
              "\n",
              "    .colab-df-convert {\n",
              "      background-color: #E8F0FE;\n",
              "      border: none;\n",
              "      border-radius: 50%;\n",
              "      cursor: pointer;\n",
              "      display: none;\n",
              "      fill: #1967D2;\n",
              "      height: 32px;\n",
              "      padding: 0 0 0 0;\n",
              "      width: 32px;\n",
              "    }\n",
              "\n",
              "    .colab-df-convert:hover {\n",
              "      background-color: #E2EBFA;\n",
              "      box-shadow: 0px 1px 2px rgba(60, 64, 67, 0.3), 0px 1px 3px 1px rgba(60, 64, 67, 0.15);\n",
              "      fill: #174EA6;\n",
              "    }\n",
              "\n",
              "    [theme=dark] .colab-df-convert {\n",
              "      background-color: #3B4455;\n",
              "      fill: #D2E3FC;\n",
              "    }\n",
              "\n",
              "    [theme=dark] .colab-df-convert:hover {\n",
              "      background-color: #434B5C;\n",
              "      box-shadow: 0px 1px 3px 1px rgba(0, 0, 0, 0.15);\n",
              "      filter: drop-shadow(0px 1px 2px rgba(0, 0, 0, 0.3));\n",
              "      fill: #FFFFFF;\n",
              "    }\n",
              "  </style>\n",
              "\n",
              "      <script>\n",
              "        const buttonEl =\n",
              "          document.querySelector('#df-2b21248e-64ca-43af-b636-8786dbd656ad button.colab-df-convert');\n",
              "        buttonEl.style.display =\n",
              "          google.colab.kernel.accessAllowed ? 'block' : 'none';\n",
              "\n",
              "        async function convertToInteractive(key) {\n",
              "          const element = document.querySelector('#df-2b21248e-64ca-43af-b636-8786dbd656ad');\n",
              "          const dataTable =\n",
              "            await google.colab.kernel.invokeFunction('convertToInteractive',\n",
              "                                                     [key], {});\n",
              "          if (!dataTable) return;\n",
              "\n",
              "          const docLinkHtml = 'Like what you see? Visit the ' +\n",
              "            '<a target=\"_blank\" href=https://colab.research.google.com/notebooks/data_table.ipynb>data table notebook</a>'\n",
              "            + ' to learn more about interactive tables.';\n",
              "          element.innerHTML = '';\n",
              "          dataTable['output_type'] = 'display_data';\n",
              "          await google.colab.output.renderOutput(dataTable, element);\n",
              "          const docLink = document.createElement('div');\n",
              "          docLink.innerHTML = docLinkHtml;\n",
              "          element.appendChild(docLink);\n",
              "        }\n",
              "      </script>\n",
              "    </div>\n",
              "  </div>\n",
              "  "
            ]
          },
          "metadata": {},
          "execution_count": 19
        }
      ]
    },
    {
      "cell_type": "code",
      "source": [
        "import torch\n",
        "import torch.nn.functional as F\n",
        "\n",
        "a = torch.FloatTensor(mwe_english[\"Idiomatic\"])\n",
        "\n",
        "b = torch.FloatTensor(mwe_english[\"Non_Idiomatic\"])\n",
        "result = F.cosine_similarity(a, b, dim=0)\n",
        "\n",
        "print(result)"
      ],
      "metadata": {
        "colab": {
          "base_uri": "https://localhost:8080/"
        },
        "id": "GRboebYmEWsG",
        "outputId": "c431d78b-02ee-4523-baa8-9c29a54ffd9e"
      },
      "execution_count": null,
      "outputs": [
        {
          "output_type": "stream",
          "name": "stdout",
          "text": [
            "tensor(0.1976)\n"
          ]
        }
      ]
    },
    {
      "cell_type": "code",
      "source": [
        "portuguese_train_data['MWE'].value_counts().count()"
      ],
      "metadata": {
        "colab": {
          "base_uri": "https://localhost:8080/"
        },
        "id": "h4vE1ZEUy7JU",
        "outputId": "364fd382-db8d-4cd7-d9d2-0ae429ed32c9"
      },
      "execution_count": null,
      "outputs": [
        {
          "output_type": "execute_result",
          "data": {
            "text/plain": [
              "73"
            ]
          },
          "metadata": {},
          "execution_count": 21
        }
      ]
    },
    {
      "cell_type": "code",
      "source": [
        "mwe= portuguese_train_data['MWE'].value_counts().rename_axis('MWE').reset_index(name='Quantity')\n",
        "\n",
        "mwe=mwe.head(20)\n",
        "\n",
        "plt.figure(figsize=(7,10))\n",
        "sns.barplot(y='MWE',x='Quantity',data=mwe)\n"
      ],
      "metadata": {
        "colab": {
          "base_uri": "https://localhost:8080/",
          "height": 624
        },
        "id": "iSIw3V5gZ_9J",
        "outputId": "8c15a48e-cda4-475b-916e-a1cad7d5b08b"
      },
      "execution_count": null,
      "outputs": [
        {
          "output_type": "execute_result",
          "data": {
            "text/plain": [
              "<matplotlib.axes._subplots.AxesSubplot at 0x7f088b088df0>"
            ]
          },
          "metadata": {},
          "execution_count": 22
        },
        {
          "output_type": "display_data",
          "data": {
            "text/plain": [
              "<Figure size 504x720 with 1 Axes>"
            ],
            "image/png": "[encoded data removed]"
          },
          "metadata": {
            "needs_background": "light"
          }
        }
      ]
    },
    {
      "cell_type": "code",
      "source": [],
      "metadata": {
        "id": "wROCc_GGvzpm"
      },
      "execution_count": null,
      "outputs": []
    },
    {
      "cell_type": "markdown",
      "source": [
        "## **One Shot Training Data**"
      ],
      "metadata": {
        "id": "zDimWHs3ozi4"
      }
    },
    {
      "cell_type": "code",
      "source": [
        "train_one_data = pd.read_csv(\"Idiomacity-Detection/Rawdata//train_one_shot.csv\")\n",
        "train_one_data"
      ],
      "metadata": {
        "colab": {
          "base_uri": "https://localhost:8080/",
          "height": 423
        },
        "outputId": "c416c340-8382-42a3-cced-5a8c72fb0d49",
        "id": "Rq2wzVJxozjG"
      },
      "execution_count": null,
      "outputs": [
        {
          "output_type": "execute_result",
          "data": {
            "text/plain": [
              "                      DataID Language             MWE   Setting  \\\n",
              "0    train_one_shot.EN.147.1       EN       high life  one_shot   \n",
              "1    train_one_shot.EN.183.1       EN      birth rate  one_shot   \n",
              "2    train_one_shot.EN.213.1       EN        home run  one_shot   \n",
              "3     train_one_shot.EN.26.1       EN  public service  one_shot   \n",
              "4     train_one_shot.EN.26.2       EN  public service  one_shot   \n",
              "..                       ...      ...             ...       ...   \n",
              "135  train_one_shot.PT.293.1       PT    amigo oculto  one_shot   \n",
              "136  train_one_shot.PT.293.2       PT    amigo oculto  one_shot   \n",
              "137  train_one_shot.PT.284.1       PT  agente secreto  one_shot   \n",
              "138  train_one_shot.PT.435.1       PT     sangue frio  one_shot   \n",
              "139  train_one_shot.PT.435.2       PT     sangue frio  one_shot   \n",
              "\n",
              "                                              Previous  \\\n",
              "0    PSG ace Marquinhos owns this £170k Ferrari - b...   \n",
              "1    Demography expert Piotr Szukalski told Dzienni...   \n",
              "2    Negro Leagues Baseball Museum President Bob Ke...   \n",
              "3    The Nakayama Public Service Scholarship is par...   \n",
              "4                            He was absolutely right.”   \n",
              "..                                                 ...   \n",
              "135  Mesmo com a pandemia, é possível manter a trad...   \n",
              "136  Secret Santa Generator : Secret Santa é o nome...   \n",
              "137  Já à meia-noite, o Domingo Maior exibe 3 Dias ...   \n",
              "138  Com a pele em chamas, o companheiro de Khen (P...   \n",
              "139  O juiz Dalton Igor Kita Conrado, da 5ª Vara Fe...   \n",
              "\n",
              "                                                Target  \\\n",
              "0    Despite having the riches to afford the high l...   \n",
              "1    Minister of Family and Social Policy Marlena M...   \n",
              "2    So Aaron faced the same brutal racism other Bl...   \n",
              "3    Program leaders said the scholarship defines p...   \n",
              "4    In the ensuing years, Wennberg might not have ...   \n",
              "..                                                 ...   \n",
              "135  Chegou o fim do ano e com ele as festas de Nat...   \n",
              "136  Esta é a versão do app semelhante ao Amigo Ocu...   \n",
              "137  Ethan Renner (Kevin Costner), veterano agente ...   \n",
              "138  Irritado com a mentira, o líder desejará matar...   \n",
              "139  A denúncia, que também implica Nilza dos Santo...   \n",
              "\n",
              "                                                  Next  Label  \n",
              "0    In an interview with the French magazine 'So F...      1  \n",
              "1    Commenting on data the state agency Statistics...      1  \n",
              "2    This Black man in the deep South was about to ...      0  \n",
              "3    I think everyone can agree we need to do more ...      0  \n",
              "4    Wennberg said he knew when he ran for his sixt...      1  \n",
              "..                                                 ...    ...  \n",
              "135     Não tem jeito, essa é uma tradição brasileira.      0  \n",
              "136  Eles são análogos e funcionam exatamente da me...      1  \n",
              "137  Seu último desejo é reatar com sua filha, com ...      1  \n",
              "138  Assim, ele decidirá se livrar do escolhido e l...      0  \n",
              "139  Ingressada em 2018, a denúncia do MPF, assinad...      1  \n",
              "\n",
              "[140 rows x 8 columns]"
            ],
            "text/html": [
              "\n",
              "  <div id=\"df-fa6a6844-2fb7-4cf3-8dcb-8f966e8e147a\">\n",
              "    <div class=\"colab-df-container\">\n",
              "      <div>\n",
              "<style scoped>\n",
              "    .dataframe tbody tr th:only-of-type {\n",
              "        vertical-align: middle;\n",
              "    }\n",
              "\n",
              "    .dataframe tbody tr th {\n",
              "        vertical-align: top;\n",
              "    }\n",
              "\n",
              "    .dataframe thead th {\n",
              "        text-align: right;\n",
              "    }\n",
              "</style>\n",
              "<table border=\"1\" class=\"dataframe\">\n",
              "  <thead>\n",
              "    <tr style=\"text-align: right;\">\n",
              "      <th></th>\n",
              "      <th>DataID</th>\n",
              "      <th>Language</th>\n",
              "      <th>MWE</th>\n",
              "      <th>Setting</th>\n",
              "      <th>Previous</th>\n",
              "      <th>Target</th>\n",
              "      <th>Next</th>\n",
              "      <th>Label</th>\n",
              "    </tr>\n",
              "  </thead>\n",
              "  <tbody>\n",
              "    <tr>\n",
              "      <th>0</th>\n",
              "      <td>train_one_shot.EN.147.1</td>\n",
              "      <td>EN</td>\n",
              "      <td>high life</td>\n",
              "      <td>one_shot</td>\n",
              "      <td>PSG ace Marquinhos owns this £170k Ferrari - b...</td>\n",
              "      <td>Despite having the riches to afford the high l...</td>\n",
              "      <td>In an interview with the French magazine 'So F...</td>\n",
              "      <td>1</td>\n",
              "    </tr>\n",
              "    <tr>\n",
              "      <th>1</th>\n",
              "      <td>train_one_shot.EN.183.1</td>\n",
              "      <td>EN</td>\n",
              "      <td>birth rate</td>\n",
              "      <td>one_shot</td>\n",
              "      <td>Demography expert Piotr Szukalski told Dzienni...</td>\n",
              "      <td>Minister of Family and Social Policy Marlena M...</td>\n",
              "      <td>Commenting on data the state agency Statistics...</td>\n",
              "      <td>1</td>\n",
              "    </tr>\n",
              "    <tr>\n",
              "      <th>2</th>\n",
              "      <td>train_one_shot.EN.213.1</td>\n",
              "      <td>EN</td>\n",
              "      <td>home run</td>\n",
              "      <td>one_shot</td>\n",
              "      <td>Negro Leagues Baseball Museum President Bob Ke...</td>\n",
              "      <td>So Aaron faced the same brutal racism other Bl...</td>\n",
              "      <td>This Black man in the deep South was about to ...</td>\n",
              "      <td>0</td>\n",
              "    </tr>\n",
              "    <tr>\n",
              "      <th>3</th>\n",
              "      <td>train_one_shot.EN.26.1</td>\n",
              "      <td>EN</td>\n",
              "      <td>public service</td>\n",
              "      <td>one_shot</td>\n",
              "      <td>The Nakayama Public Service Scholarship is par...</td>\n",
              "      <td>Program leaders said the scholarship defines p...</td>\n",
              "      <td>I think everyone can agree we need to do more ...</td>\n",
              "      <td>0</td>\n",
              "    </tr>\n",
              "    <tr>\n",
              "      <th>4</th>\n",
              "      <td>train_one_shot.EN.26.2</td>\n",
              "      <td>EN</td>\n",
              "      <td>public service</td>\n",
              "      <td>one_shot</td>\n",
              "      <td>He was absolutely right.”</td>\n",
              "      <td>In the ensuing years, Wennberg might not have ...</td>\n",
              "      <td>Wennberg said he knew when he ran for his sixt...</td>\n",
              "      <td>1</td>\n",
              "    </tr>\n",
              "    <tr>\n",
              "      <th>...</th>\n",
              "      <td>...</td>\n",
              "      <td>...</td>\n",
              "      <td>...</td>\n",
              "      <td>...</td>\n",
              "      <td>...</td>\n",
              "      <td>...</td>\n",
              "      <td>...</td>\n",
              "      <td>...</td>\n",
              "    </tr>\n",
              "    <tr>\n",
              "      <th>135</th>\n",
              "      <td>train_one_shot.PT.293.1</td>\n",
              "      <td>PT</td>\n",
              "      <td>amigo oculto</td>\n",
              "      <td>one_shot</td>\n",
              "      <td>Mesmo com a pandemia, é possível manter a trad...</td>\n",
              "      <td>Chegou o fim do ano e com ele as festas de Nat...</td>\n",
              "      <td>Não tem jeito, essa é uma tradição brasileira.</td>\n",
              "      <td>0</td>\n",
              "    </tr>\n",
              "    <tr>\n",
              "      <th>136</th>\n",
              "      <td>train_one_shot.PT.293.2</td>\n",
              "      <td>PT</td>\n",
              "      <td>amigo oculto</td>\n",
              "      <td>one_shot</td>\n",
              "      <td>Secret Santa Generator : Secret Santa é o nome...</td>\n",
              "      <td>Esta é a versão do app semelhante ao Amigo Ocu...</td>\n",
              "      <td>Eles são análogos e funcionam exatamente da me...</td>\n",
              "      <td>1</td>\n",
              "    </tr>\n",
              "    <tr>\n",
              "      <th>137</th>\n",
              "      <td>train_one_shot.PT.284.1</td>\n",
              "      <td>PT</td>\n",
              "      <td>agente secreto</td>\n",
              "      <td>one_shot</td>\n",
              "      <td>Já à meia-noite, o Domingo Maior exibe 3 Dias ...</td>\n",
              "      <td>Ethan Renner (Kevin Costner), veterano agente ...</td>\n",
              "      <td>Seu último desejo é reatar com sua filha, com ...</td>\n",
              "      <td>1</td>\n",
              "    </tr>\n",
              "    <tr>\n",
              "      <th>138</th>\n",
              "      <td>train_one_shot.PT.435.1</td>\n",
              "      <td>PT</td>\n",
              "      <td>sangue frio</td>\n",
              "      <td>one_shot</td>\n",
              "      <td>Com a pele em chamas, o companheiro de Khen (P...</td>\n",
              "      <td>Irritado com a mentira, o líder desejará matar...</td>\n",
              "      <td>Assim, ele decidirá se livrar do escolhido e l...</td>\n",
              "      <td>0</td>\n",
              "    </tr>\n",
              "    <tr>\n",
              "      <th>139</th>\n",
              "      <td>train_one_shot.PT.435.2</td>\n",
              "      <td>PT</td>\n",
              "      <td>sangue frio</td>\n",
              "      <td>one_shot</td>\n",
              "      <td>O juiz Dalton Igor Kita Conrado, da 5ª Vara Fe...</td>\n",
              "      <td>A denúncia, que também implica Nilza dos Santo...</td>\n",
              "      <td>Ingressada em 2018, a denúncia do MPF, assinad...</td>\n",
              "      <td>1</td>\n",
              "    </tr>\n",
              "  </tbody>\n",
              "</table>\n",
              "<p>140 rows × 8 columns</p>\n",
              "</div>\n",
              "      <button class=\"colab-df-convert\" onclick=\"convertToInteractive('df-fa6a6844-2fb7-4cf3-8dcb-8f966e8e147a')\"\n",
              "              title=\"Convert this dataframe to an interactive table.\"\n",
              "              style=\"display:none;\">\n",
              "        \n",
              "  <svg xmlns=\"http://www.w3.org/2000/svg\" height=\"24px\"viewBox=\"0 0 24 24\"\n",
              "       width=\"24px\">\n",
              "    <path d=\"M0 0h24v24H0V0z\" fill=\"none\"/>\n",
              "    <path d=\"M18.56 5.44l.94 2.06.94-2.06 2.06-.94-2.06-.94-.94-2.06-.94 2.06-2.06.94zm-11 1L8.5 8.5l.94-2.06 2.06-.94-2.06-.94L8.5 2.5l-.94 2.06-2.06.94zm10 10l.94 2.06.94-2.06 2.06-.94-2.06-.94-.94-2.06-.94 2.06-2.06.94z\"/><path d=\"M17.41 7.96l-1.37-1.37c-.4-.4-.92-.59-1.43-.59-.52 0-1.04.2-1.43.59L10.3 9.45l-7.72 7.72c-.78.78-.78 2.05 0 2.83L4 21.41c.39.39.9.59 1.41.59.51 0 1.02-.2 1.41-.59l7.78-7.78 2.81-2.81c.8-.78.8-2.07 0-2.86zM5.41 20L4 18.59l7.72-7.72 1.47 1.35L5.41 20z\"/>\n",
              "  </svg>\n",
              "      </button>\n",
              "      \n",
              "  <style>\n",
              "    .colab-df-container {\n",
              "      display:flex;\n",
              "      flex-wrap:wrap;\n",
              "      gap: 12px;\n",
              "    }\n",
              "\n",
              "    .colab-df-convert {\n",
              "      background-color: #E8F0FE;\n",
              "      border: none;\n",
              "      border-radius: 50%;\n",
              "      cursor: pointer;\n",
              "      display: none;\n",
              "      fill: #1967D2;\n",
              "      height: 32px;\n",
              "      padding: 0 0 0 0;\n",
              "      width: 32px;\n",
              "    }\n",
              "\n",
              "    .colab-df-convert:hover {\n",
              "      background-color: #E2EBFA;\n",
              "      box-shadow: 0px 1px 2px rgba(60, 64, 67, 0.3), 0px 1px 3px 1px rgba(60, 64, 67, 0.15);\n",
              "      fill: #174EA6;\n",
              "    }\n",
              "\n",
              "    [theme=dark] .colab-df-convert {\n",
              "      background-color: #3B4455;\n",
              "      fill: #D2E3FC;\n",
              "    }\n",
              "\n",
              "    [theme=dark] .colab-df-convert:hover {\n",
              "      background-color: #434B5C;\n",
              "      box-shadow: 0px 1px 3px 1px rgba(0, 0, 0, 0.15);\n",
              "      filter: drop-shadow(0px 1px 2px rgba(0, 0, 0, 0.3));\n",
              "      fill: #FFFFFF;\n",
              "    }\n",
              "  </style>\n",
              "\n",
              "      <script>\n",
              "        const buttonEl =\n",
              "          document.querySelector('#df-fa6a6844-2fb7-4cf3-8dcb-8f966e8e147a button.colab-df-convert');\n",
              "        buttonEl.style.display =\n",
              "          google.colab.kernel.accessAllowed ? 'block' : 'none';\n",
              "\n",
              "        async function convertToInteractive(key) {\n",
              "          const element = document.querySelector('#df-fa6a6844-2fb7-4cf3-8dcb-8f966e8e147a');\n",
              "          const dataTable =\n",
              "            await google.colab.kernel.invokeFunction('convertToInteractive',\n",
              "                                                     [key], {});\n",
              "          if (!dataTable) return;\n",
              "\n",
              "          const docLinkHtml = 'Like what you see? Visit the ' +\n",
              "            '<a target=\"_blank\" href=https://colab.research.google.com/notebooks/data_table.ipynb>data table notebook</a>'\n",
              "            + ' to learn more about interactive tables.';\n",
              "          element.innerHTML = '';\n",
              "          dataTable['output_type'] = 'display_data';\n",
              "          await google.colab.output.renderOutput(dataTable, element);\n",
              "          const docLink = document.createElement('div');\n",
              "          docLink.innerHTML = docLinkHtml;\n",
              "          element.appendChild(docLink);\n",
              "        }\n",
              "      </script>\n",
              "    </div>\n",
              "  </div>\n",
              "  "
            ]
          },
          "metadata": {},
          "execution_count": 23
        }
      ]
    },
    {
      "cell_type": "code",
      "source": [
        "null_value = train_one_data.loc[train_one_data['Next'].isnull()]\n",
        "null_value"
      ],
      "metadata": {
        "colab": {
          "base_uri": "https://localhost:8080/",
          "height": 49
        },
        "outputId": "869d87ad-41ef-47e2-e269-34bfac7c8692",
        "id": "zswiWAS0ozjG"
      },
      "execution_count": null,
      "outputs": [
        {
          "output_type": "execute_result",
          "data": {
            "text/plain": [
              "Empty DataFrame\n",
              "Columns: [DataID, Language, MWE, Setting, Previous, Target, Next, Label]\n",
              "Index: []"
            ],
            "text/html": [
              "\n",
              "  <div id=\"df-db86bd34-f173-492f-a107-9139d6e11565\">\n",
              "    <div class=\"colab-df-container\">\n",
              "      <div>\n",
              "<style scoped>\n",
              "    .dataframe tbody tr th:only-of-type {\n",
              "        vertical-align: middle;\n",
              "    }\n",
              "\n",
              "    .dataframe tbody tr th {\n",
              "        vertical-align: top;\n",
              "    }\n",
              "\n",
              "    .dataframe thead th {\n",
              "        text-align: right;\n",
              "    }\n",
              "</style>\n",
              "<table border=\"1\" class=\"dataframe\">\n",
              "  <thead>\n",
              "    <tr style=\"text-align: right;\">\n",
              "      <th></th>\n",
              "      <th>DataID</th>\n",
              "      <th>Language</th>\n",
              "      <th>MWE</th>\n",
              "      <th>Setting</th>\n",
              "      <th>Previous</th>\n",
              "      <th>Target</th>\n",
              "      <th>Next</th>\n",
              "      <th>Label</th>\n",
              "    </tr>\n",
              "  </thead>\n",
              "  <tbody>\n",
              "  </tbody>\n",
              "</table>\n",
              "</div>\n",
              "      <button class=\"colab-df-convert\" onclick=\"convertToInteractive('df-db86bd34-f173-492f-a107-9139d6e11565')\"\n",
              "              title=\"Convert this dataframe to an interactive table.\"\n",
              "              style=\"display:none;\">\n",
              "        \n",
              "  <svg xmlns=\"http://www.w3.org/2000/svg\" height=\"24px\"viewBox=\"0 0 24 24\"\n",
              "       width=\"24px\">\n",
              "    <path d=\"M0 0h24v24H0V0z\" fill=\"none\"/>\n",
              "    <path d=\"M18.56 5.44l.94 2.06.94-2.06 2.06-.94-2.06-.94-.94-2.06-.94 2.06-2.06.94zm-11 1L8.5 8.5l.94-2.06 2.06-.94-2.06-.94L8.5 2.5l-.94 2.06-2.06.94zm10 10l.94 2.06.94-2.06 2.06-.94-2.06-.94-.94-2.06-.94 2.06-2.06.94z\"/><path d=\"M17.41 7.96l-1.37-1.37c-.4-.4-.92-.59-1.43-.59-.52 0-1.04.2-1.43.59L10.3 9.45l-7.72 7.72c-.78.78-.78 2.05 0 2.83L4 21.41c.39.39.9.59 1.41.59.51 0 1.02-.2 1.41-.59l7.78-7.78 2.81-2.81c.8-.78.8-2.07 0-2.86zM5.41 20L4 18.59l7.72-7.72 1.47 1.35L5.41 20z\"/>\n",
              "  </svg>\n",
              "      </button>\n",
              "      \n",
              "  <style>\n",
              "    .colab-df-container {\n",
              "      display:flex;\n",
              "      flex-wrap:wrap;\n",
              "      gap: 12px;\n",
              "    }\n",
              "\n",
              "    .colab-df-convert {\n",
              "      background-color: #E8F0FE;\n",
              "      border: none;\n",
              "      border-radius: 50%;\n",
              "      cursor: pointer;\n",
              "      display: none;\n",
              "      fill: #1967D2;\n",
              "      height: 32px;\n",
              "      padding: 0 0 0 0;\n",
              "      width: 32px;\n",
              "    }\n",
              "\n",
              "    .colab-df-convert:hover {\n",
              "      background-color: #E2EBFA;\n",
              "      box-shadow: 0px 1px 2px rgba(60, 64, 67, 0.3), 0px 1px 3px 1px rgba(60, 64, 67, 0.15);\n",
              "      fill: #174EA6;\n",
              "    }\n",
              "\n",
              "    [theme=dark] .colab-df-convert {\n",
              "      background-color: #3B4455;\n",
              "      fill: #D2E3FC;\n",
              "    }\n",
              "\n",
              "    [theme=dark] .colab-df-convert:hover {\n",
              "      background-color: #434B5C;\n",
              "      box-shadow: 0px 1px 3px 1px rgba(0, 0, 0, 0.15);\n",
              "      filter: drop-shadow(0px 1px 2px rgba(0, 0, 0, 0.3));\n",
              "      fill: #FFFFFF;\n",
              "    }\n",
              "  </style>\n",
              "\n",
              "      <script>\n",
              "        const buttonEl =\n",
              "          document.querySelector('#df-db86bd34-f173-492f-a107-9139d6e11565 button.colab-df-convert');\n",
              "        buttonEl.style.display =\n",
              "          google.colab.kernel.accessAllowed ? 'block' : 'none';\n",
              "\n",
              "        async function convertToInteractive(key) {\n",
              "          const element = document.querySelector('#df-db86bd34-f173-492f-a107-9139d6e11565');\n",
              "          const dataTable =\n",
              "            await google.colab.kernel.invokeFunction('convertToInteractive',\n",
              "                                                     [key], {});\n",
              "          if (!dataTable) return;\n",
              "\n",
              "          const docLinkHtml = 'Like what you see? Visit the ' +\n",
              "            '<a target=\"_blank\" href=https://colab.research.google.com/notebooks/data_table.ipynb>data table notebook</a>'\n",
              "            + ' to learn more about interactive tables.';\n",
              "          element.innerHTML = '';\n",
              "          dataTable['output_type'] = 'display_data';\n",
              "          await google.colab.output.renderOutput(dataTable, element);\n",
              "          const docLink = document.createElement('div');\n",
              "          docLink.innerHTML = docLinkHtml;\n",
              "          element.appendChild(docLink);\n",
              "        }\n",
              "      </script>\n",
              "    </div>\n",
              "  </div>\n",
              "  "
            ]
          },
          "metadata": {},
          "execution_count": 24
        }
      ]
    },
    {
      "cell_type": "code",
      "source": [
        "train_one_data=train_one_data.dropna()"
      ],
      "metadata": {
        "id": "xMJgZaDMozjG"
      },
      "execution_count": null,
      "outputs": []
    },
    {
      "cell_type": "code",
      "source": [
        "train_one_data.MWE.value_counts()"
      ],
      "metadata": {
        "colab": {
          "base_uri": "https://localhost:8080/"
        },
        "id": "HnxeMZRJN3HX",
        "outputId": "a09d699e-2aea-4b85-8788-9034cf4d105e"
      },
      "execution_count": null,
      "outputs": [
        {
          "output_type": "execute_result",
          "data": {
            "text/plain": [
              "sangue frio         2\n",
              "dry land            2\n",
              "closed book         2\n",
              "bad hat             2\n",
              "dream ticket        2\n",
              "                   ..\n",
              "critical review     1\n",
              "middle school       1\n",
              "goose egg           1\n",
              "peace conference    1\n",
              "entrance hall       1\n",
              "Name: MWE, Length: 100, dtype: int64"
            ]
          },
          "metadata": {},
          "execution_count": 26
        }
      ]
    },
    {
      "cell_type": "markdown",
      "source": [
        "### **Language Column**"
      ],
      "metadata": {
        "id": "T310c_eDozjH"
      }
    },
    {
      "cell_type": "code",
      "source": [
        "english_train_data1=train_one_data.loc[train_one_data['Language'] =='EN']\n",
        "portuguese_train_data1=train_one_data.loc[train_one_data['Language'] =='PT']"
      ],
      "metadata": {
        "id": "dPS8nAmyozjH"
      },
      "execution_count": null,
      "outputs": []
    },
    {
      "cell_type": "code",
      "source": [
        "language_classes = train_one_data.Language.unique()\n",
        "language_counts = []\n",
        "\n",
        "for i in language_classes:\n",
        "  count = len(train_one_data[train_one_data.Language==i])\n",
        "  language_counts.append(count)\n",
        "\n",
        "plt.figure(figsize=(5, 5))\n",
        "plt.barh(language_classes,language_counts,color=['red','orange'])\n",
        "plt.title(\"Language Classes distribution in One Training Data\")\n",
        "plt.show()\n",
        "\n",
        "print('\\n')\n",
        "print(train_one_data['Language'].value_counts())"
      ],
      "metadata": {
        "colab": {
          "base_uri": "https://localhost:8080/",
          "height": 428
        },
        "outputId": "8286c51b-f843-44f3-ec0c-305e3b84e9d5",
        "id": "9ZWKm8i9ozjH"
      },
      "execution_count": null,
      "outputs": [
        {
          "output_type": "display_data",
          "data": {
            "text/plain": [
              "<Figure size 360x360 with 1 Axes>"
            ],
            "image/png": "[encoded data removed]"
          },
          "metadata": {
            "needs_background": "light"
          }
        },
        {
          "output_type": "stream",
          "name": "stdout",
          "text": [
            "\n",
            "\n",
            "EN    87\n",
            "PT    53\n",
            "Name: Language, dtype: int64\n"
          ]
        }
      ]
    },
    {
      "cell_type": "markdown",
      "source": [
        "`About 62% of the rows are in English at 83 where as only 38% of it are in Portuguese at 53`\n",
        "\n",
        "---\n",
        "\n",
        "\n",
        "\n",
        "\n"
      ],
      "metadata": {
        "id": "jJaNvrCJozjH"
      }
    },
    {
      "cell_type": "markdown",
      "source": [
        "### **Idioms or not?**"
      ],
      "metadata": {
        "id": "05H6GJazozjH"
      }
    },
    {
      "cell_type": "code",
      "source": [
        "idiomatic_classes = train_one_data.Label.unique()\n",
        "idiomatic_counts = []\n",
        "\n",
        "for i in idiomatic_classes:\n",
        "  count = len(train_one_data[train_one_data.Label==i])\n",
        "  idiomatic_counts.append(count)\n",
        "\n",
        "explode = [0.1, 0]\n",
        "fig, ax = plt.subplots(figsize=(5, 5))\n",
        "\n",
        "patches, texts, pcts = ax.pie(\n",
        "    idiomatic_counts, colors=['red', 'black'] ,labels=['Not Idiomatic','Idiomatic',], autopct='%.1f%%',\n",
        "    textprops={'size': 'x-large'}\n",
        "    ,shadow=True,explode=explode)\n",
        "for i, patch in enumerate(patches):\n",
        "  texts[i].set_color(patch.get_facecolor())\n",
        "\n",
        "plt.title(\"Label Distribution in One Training Data\")\n",
        "plt.setp(pcts, color='white')\n",
        "plt.setp(texts, fontweight=1000)\n",
        "plt.tight_layout()\n",
        "\n",
        "print('\\n')\n",
        "print(train_one_data['Label'].value_counts())"
      ],
      "metadata": {
        "colab": {
          "base_uri": "https://localhost:8080/",
          "height": 461
        },
        "outputId": "b0e63eff-3c3f-4c6c-e07a-2ca048d92cfe",
        "id": "xm8N1eATozjI"
      },
      "execution_count": null,
      "outputs": [
        {
          "output_type": "stream",
          "name": "stdout",
          "text": [
            "\n",
            "\n",
            "1    80\n",
            "0    60\n",
            "Name: Label, dtype: int64\n"
          ]
        },
        {
          "output_type": "display_data",
          "data": {
            "text/plain": [
              "<Figure size 360x360 with 1 Axes>"
            ],
            "image/png": "[encoded data removed]"
          },
          "metadata": {}
        }
      ]
    },
    {
      "cell_type": "markdown",
      "source": [
        "### **MWE Column**"
      ],
      "metadata": {
        "id": "4d68NuRuozjI"
      }
    },
    {
      "cell_type": "code",
      "source": [
        "train_one_data['MWE'].value_counts().count()"
      ],
      "metadata": {
        "colab": {
          "base_uri": "https://localhost:8080/"
        },
        "outputId": "a112f223-268b-4528-b4a8-c7d57d30a7df",
        "id": "VWNTZwnAozjI"
      },
      "execution_count": null,
      "outputs": [
        {
          "output_type": "execute_result",
          "data": {
            "text/plain": [
              "100"
            ]
          },
          "metadata": {},
          "execution_count": 30
        }
      ]
    },
    {
      "cell_type": "code",
      "source": [
        "english_train_data1['MWE'].value_counts().count()"
      ],
      "metadata": {
        "colab": {
          "base_uri": "https://localhost:8080/"
        },
        "outputId": "d6948076-8d89-42e3-853f-410af73b1ba8",
        "id": "pYlTXIdLozjI"
      },
      "execution_count": null,
      "outputs": [
        {
          "output_type": "execute_result",
          "data": {
            "text/plain": [
              "60"
            ]
          },
          "metadata": {},
          "execution_count": 31
        }
      ]
    },
    {
      "cell_type": "code",
      "source": [
        "portuguese_train_data1['MWE'].value_counts().count()"
      ],
      "metadata": {
        "colab": {
          "base_uri": "https://localhost:8080/"
        },
        "outputId": "744efd75-353f-4623-fa4b-83bcb0a0231f",
        "id": "f5MDnC51ozjI"
      },
      "execution_count": null,
      "outputs": [
        {
          "output_type": "execute_result",
          "data": {
            "text/plain": [
              "40"
            ]
          },
          "metadata": {},
          "execution_count": 32
        }
      ]
    },
    {
      "cell_type": "markdown",
      "source": [
        "There are total of 100 MWE in the training data. 60 were in English and 40 were in Portuguese."
      ],
      "metadata": {
        "id": "wg9JNdjWozjK"
      }
    },
    {
      "cell_type": "code",
      "source": [
        "mwe_label_grouped = train_one_data.groupby(\"MWE\")[\"Label\"]\n",
        "both_label_mwe_df = mwe_label_grouped.filter(lambda x: len(x.value_counts())==2)\n",
        "print(\"MWE with both non-idiomatic and idiomatic samples: \"+ format(len(both_label_mwe_df)/2))\n",
        "\n",
        "unique_labels_mwe_df = mwe_label_grouped.filter(lambda x: len(x.value_counts())==1)\n",
        "zero_as_label_mwes = unique_labels_mwe_df[unique_labels_mwe_df==0]\n",
        "one_as_label_mwes = unique_labels_mwe_df[unique_labels_mwe_df==1]\n",
        "print(\"MWE with only non-idiomatic sample: \" + format(len(one_as_label_mwes)))\n",
        "print(\"MWE with only idiomatic sample: \"+format(len(zero_as_label_mwes)))"
      ],
      "metadata": {
        "colab": {
          "base_uri": "https://localhost:8080/"
        },
        "id": "iRNdMz6gXHBP",
        "outputId": "fe2601c9-6e43-4829-fbd6-75a8ba7ef38d"
      },
      "execution_count": null,
      "outputs": [
        {
          "output_type": "stream",
          "name": "stdout",
          "text": [
            "MWE with both non-idiomatic and idiomatic samples: 40.0\n",
            "MWE with only non-idiomatic sample: 40\n",
            "MWE with only idiomatic sample: 20\n"
          ]
        }
      ]
    },
    {
      "cell_type": "markdown",
      "source": [
        "*   It seems like there are 40 MWE which has both idiomatic and non-idiomatic samples.\n",
        "*   MWE that has only non-idiomatic samples are about 40 and 20 have only idiomatic samples.\n",
        "\n"
      ],
      "metadata": {
        "id": "C79EJtLxZVEc"
      }
    },
    {
      "cell_type": "markdown",
      "source": [
        "## **Dev Data**"
      ],
      "metadata": {
        "id": "20vsv35VGh7g"
      }
    },
    {
      "cell_type": "code",
      "source": [
        "dev_data = pd.read_csv(\"Idiomacity-Detection/Rawdata/dev.csv\")\n",
        "dev_g_data = pd.read_csv(\"Idiomacity-Detection/Rawdata/dev_gold.csv\")\n",
        "dev_data = dev_data.merge(dev_g_data)\n",
        "dev_data"
      ],
      "metadata": {
        "id": "AZlvJTXnGh7z",
        "colab": {
          "base_uri": "https://localhost:8080/",
          "height": 423
        },
        "outputId": "669fd77d-794c-4f9c-a763-e9a65c2ce892"
      },
      "execution_count": null,
      "outputs": [
        {
          "output_type": "execute_result",
          "data": {
            "text/plain": [
              "        ID Language              MWE  \\\n",
              "0     3652       EN        high life   \n",
              "1    11103       EN        high life   \n",
              "2    84346       EN        high life   \n",
              "3    56279       EN        high life   \n",
              "4    17886       EN        high life   \n",
              "..     ...      ...              ...   \n",
              "734  95336       PT  papel higiênico   \n",
              "735  20353       PT  papel higiênico   \n",
              "736  54479       PT  papel higiênico   \n",
              "737  85941       PT  papel higiênico   \n",
              "738  13078       PT  papel higiênico   \n",
              "\n",
              "                                              Previous  \\\n",
              "0    Does the plumbing predictably rebel, creating ...   \n",
              "1    Let’s be honest – we would be chuffed if our b...   \n",
              "2                   I already have the winning ticket.   \n",
              "3    There were signs everywhere of cosy, comfortab...   \n",
              "4                              Yet one thing is clear.   \n",
              "..                                                 ...   \n",
              "734  O presidente da Suzano Papel e Celulose, Walte...   \n",
              "735  Atualmente, poderiam surgir problemas com carg...   \n",
              "736  Policiais penais do Complexo Penitenciário Dr ...   \n",
              "737  O acidente ocorreu depois de fortes rajadas de...   \n",
              "738  Um incêndio atingiu um caminhão na noite desta...   \n",
              "\n",
              "                                                Target  \\\n",
              "0    Are these interruptions of the good life a nec...   \n",
              "1    But for Australian fashion designer Abby Kheir...   \n",
              "2    With that, I will be enjoying the pleasures of...   \n",
              "3    Fendi offered swaddling, belted coats resembli...   \n",
              "4    Rick Ross and Diddy exemplify the high life, t...   \n",
              "..                                                 ...   \n",
              "734  A Suzano Papel e Celulose é uma das 10 maiores...   \n",
              "735  O presidente da Suzano Papel e Celulose, Walte...   \n",
              "736  O material entorpecente estava escondido em ro...   \n",
              "737  No caso do papel higiênico, a escassez de cont...   \n",
              "738  Segundo as informações, o veículo transportava...   \n",
              "\n",
              "                                                  Next        DataID  Label  \n",
              "0    Not at all , says James von Klemperer, preside...  dev.EN.147.1      1  \n",
              "1    Speaking to the Daily Mail , the owner of Abys...  dev.EN.147.2      1  \n",
              "2    Charles Selle is a former News-Sun reporter, p...  dev.EN.147.3      1  \n",
              "3    Shawl collars and enveloping dressing-gown sty...  dev.EN.147.4      1  \n",
              "4    And who knows -- maybe we'll see Puff on his a...  dev.EN.147.5      1  \n",
              "..                                                 ...           ...    ...  \n",
              "734  Vale destacar que a Suzano já recebeu menos en...  dev.PT.394.4      1  \n",
              "735  A Suzano Papel e Celulose é uma das 10 maiores...  dev.PT.394.5      1  \n",
              "736  O flagrante ocorreu na manhã desta sexta-feira...  dev.PT.394.6      1  \n",
              "737  Schalka, da Suzano, teme que os problemas logí...  dev.PT.394.7      1  \n",
              "738  O Corpo de Bombeiros fez o combate ao fogo e c...  dev.PT.394.8      1  \n",
              "\n",
              "[739 rows x 8 columns]"
            ],
            "text/html": [
              "\n",
              "  <div id=\"df-7d2bb210-894e-4ce9-a42f-efc887b34c03\">\n",
              "    <div class=\"colab-df-container\">\n",
              "      <div>\n",
              "<style scoped>\n",
              "    .dataframe tbody tr th:only-of-type {\n",
              "        vertical-align: middle;\n",
              "    }\n",
              "\n",
              "    .dataframe tbody tr th {\n",
              "        vertical-align: top;\n",
              "    }\n",
              "\n",
              "    .dataframe thead th {\n",
              "        text-align: right;\n",
              "    }\n",
              "</style>\n",
              "<table border=\"1\" class=\"dataframe\">\n",
              "  <thead>\n",
              "    <tr style=\"text-align: right;\">\n",
              "      <th></th>\n",
              "      <th>ID</th>\n",
              "      <th>Language</th>\n",
              "      <th>MWE</th>\n",
              "      <th>Previous</th>\n",
              "      <th>Target</th>\n",
              "      <th>Next</th>\n",
              "      <th>DataID</th>\n",
              "      <th>Label</th>\n",
              "    </tr>\n",
              "  </thead>\n",
              "  <tbody>\n",
              "    <tr>\n",
              "      <th>0</th>\n",
              "      <td>3652</td>\n",
              "      <td>EN</td>\n",
              "      <td>high life</td>\n",
              "      <td>Does the plumbing predictably rebel, creating ...</td>\n",
              "      <td>Are these interruptions of the good life a nec...</td>\n",
              "      <td>Not at all , says James von Klemperer, preside...</td>\n",
              "      <td>dev.EN.147.1</td>\n",
              "      <td>1</td>\n",
              "    </tr>\n",
              "    <tr>\n",
              "      <th>1</th>\n",
              "      <td>11103</td>\n",
              "      <td>EN</td>\n",
              "      <td>high life</td>\n",
              "      <td>Let’s be honest – we would be chuffed if our b...</td>\n",
              "      <td>But for Australian fashion designer Abby Kheir...</td>\n",
              "      <td>Speaking to the Daily Mail , the owner of Abys...</td>\n",
              "      <td>dev.EN.147.2</td>\n",
              "      <td>1</td>\n",
              "    </tr>\n",
              "    <tr>\n",
              "      <th>2</th>\n",
              "      <td>84346</td>\n",
              "      <td>EN</td>\n",
              "      <td>high life</td>\n",
              "      <td>I already have the winning ticket.</td>\n",
              "      <td>With that, I will be enjoying the pleasures of...</td>\n",
              "      <td>Charles Selle is a former News-Sun reporter, p...</td>\n",
              "      <td>dev.EN.147.3</td>\n",
              "      <td>1</td>\n",
              "    </tr>\n",
              "    <tr>\n",
              "      <th>3</th>\n",
              "      <td>56279</td>\n",
              "      <td>EN</td>\n",
              "      <td>high life</td>\n",
              "      <td>There were signs everywhere of cosy, comfortab...</td>\n",
              "      <td>Fendi offered swaddling, belted coats resembli...</td>\n",
              "      <td>Shawl collars and enveloping dressing-gown sty...</td>\n",
              "      <td>dev.EN.147.4</td>\n",
              "      <td>1</td>\n",
              "    </tr>\n",
              "    <tr>\n",
              "      <th>4</th>\n",
              "      <td>17886</td>\n",
              "      <td>EN</td>\n",
              "      <td>high life</td>\n",
              "      <td>Yet one thing is clear.</td>\n",
              "      <td>Rick Ross and Diddy exemplify the high life, t...</td>\n",
              "      <td>And who knows -- maybe we'll see Puff on his a...</td>\n",
              "      <td>dev.EN.147.5</td>\n",
              "      <td>1</td>\n",
              "    </tr>\n",
              "    <tr>\n",
              "      <th>...</th>\n",
              "      <td>...</td>\n",
              "      <td>...</td>\n",
              "      <td>...</td>\n",
              "      <td>...</td>\n",
              "      <td>...</td>\n",
              "      <td>...</td>\n",
              "      <td>...</td>\n",
              "      <td>...</td>\n",
              "    </tr>\n",
              "    <tr>\n",
              "      <th>734</th>\n",
              "      <td>95336</td>\n",
              "      <td>PT</td>\n",
              "      <td>papel higiênico</td>\n",
              "      <td>O presidente da Suzano Papel e Celulose, Walte...</td>\n",
              "      <td>A Suzano Papel e Celulose é uma das 10 maiores...</td>\n",
              "      <td>Vale destacar que a Suzano já recebeu menos en...</td>\n",
              "      <td>dev.PT.394.4</td>\n",
              "      <td>1</td>\n",
              "    </tr>\n",
              "    <tr>\n",
              "      <th>735</th>\n",
              "      <td>20353</td>\n",
              "      <td>PT</td>\n",
              "      <td>papel higiênico</td>\n",
              "      <td>Atualmente, poderiam surgir problemas com carg...</td>\n",
              "      <td>O presidente da Suzano Papel e Celulose, Walte...</td>\n",
              "      <td>A Suzano Papel e Celulose é uma das 10 maiores...</td>\n",
              "      <td>dev.PT.394.5</td>\n",
              "      <td>1</td>\n",
              "    </tr>\n",
              "    <tr>\n",
              "      <th>736</th>\n",
              "      <td>54479</td>\n",
              "      <td>PT</td>\n",
              "      <td>papel higiênico</td>\n",
              "      <td>Policiais penais do Complexo Penitenciário Dr ...</td>\n",
              "      <td>O material entorpecente estava escondido em ro...</td>\n",
              "      <td>O flagrante ocorreu na manhã desta sexta-feira...</td>\n",
              "      <td>dev.PT.394.6</td>\n",
              "      <td>1</td>\n",
              "    </tr>\n",
              "    <tr>\n",
              "      <th>737</th>\n",
              "      <td>85941</td>\n",
              "      <td>PT</td>\n",
              "      <td>papel higiênico</td>\n",
              "      <td>O acidente ocorreu depois de fortes rajadas de...</td>\n",
              "      <td>No caso do papel higiênico, a escassez de cont...</td>\n",
              "      <td>Schalka, da Suzano, teme que os problemas logí...</td>\n",
              "      <td>dev.PT.394.7</td>\n",
              "      <td>1</td>\n",
              "    </tr>\n",
              "    <tr>\n",
              "      <th>738</th>\n",
              "      <td>13078</td>\n",
              "      <td>PT</td>\n",
              "      <td>papel higiênico</td>\n",
              "      <td>Um incêndio atingiu um caminhão na noite desta...</td>\n",
              "      <td>Segundo as informações, o veículo transportava...</td>\n",
              "      <td>O Corpo de Bombeiros fez o combate ao fogo e c...</td>\n",
              "      <td>dev.PT.394.8</td>\n",
              "      <td>1</td>\n",
              "    </tr>\n",
              "  </tbody>\n",
              "</table>\n",
              "<p>739 rows × 8 columns</p>\n",
              "</div>\n",
              "      <button class=\"colab-df-convert\" onclick=\"convertToInteractive('df-7d2bb210-894e-4ce9-a42f-efc887b34c03')\"\n",
              "              title=\"Convert this dataframe to an interactive table.\"\n",
              "              style=\"display:none;\">\n",
              "        \n",
              "  <svg xmlns=\"http://www.w3.org/2000/svg\" height=\"24px\"viewBox=\"0 0 24 24\"\n",
              "       width=\"24px\">\n",
              "    <path d=\"M0 0h24v24H0V0z\" fill=\"none\"/>\n",
              "    <path d=\"M18.56 5.44l.94 2.06.94-2.06 2.06-.94-2.06-.94-.94-2.06-.94 2.06-2.06.94zm-11 1L8.5 8.5l.94-2.06 2.06-.94-2.06-.94L8.5 2.5l-.94 2.06-2.06.94zm10 10l.94 2.06.94-2.06 2.06-.94-2.06-.94-.94-2.06-.94 2.06-2.06.94z\"/><path d=\"M17.41 7.96l-1.37-1.37c-.4-.4-.92-.59-1.43-.59-.52 0-1.04.2-1.43.59L10.3 9.45l-7.72 7.72c-.78.78-.78 2.05 0 2.83L4 21.41c.39.39.9.59 1.41.59.51 0 1.02-.2 1.41-.59l7.78-7.78 2.81-2.81c.8-.78.8-2.07 0-2.86zM5.41 20L4 18.59l7.72-7.72 1.47 1.35L5.41 20z\"/>\n",
              "  </svg>\n",
              "      </button>\n",
              "      \n",
              "  <style>\n",
              "    .colab-df-container {\n",
              "      display:flex;\n",
              "      flex-wrap:wrap;\n",
              "      gap: 12px;\n",
              "    }\n",
              "\n",
              "    .colab-df-convert {\n",
              "      background-color: #E8F0FE;\n",
              "      border: none;\n",
              "      border-radius: 50%;\n",
              "      cursor: pointer;\n",
              "      display: none;\n",
              "      fill: #1967D2;\n",
              "      height: 32px;\n",
              "      padding: 0 0 0 0;\n",
              "      width: 32px;\n",
              "    }\n",
              "\n",
              "    .colab-df-convert:hover {\n",
              "      background-color: #E2EBFA;\n",
              "      box-shadow: 0px 1px 2px rgba(60, 64, 67, 0.3), 0px 1px 3px 1px rgba(60, 64, 67, 0.15);\n",
              "      fill: #174EA6;\n",
              "    }\n",
              "\n",
              "    [theme=dark] .colab-df-convert {\n",
              "      background-color: #3B4455;\n",
              "      fill: #D2E3FC;\n",
              "    }\n",
              "\n",
              "    [theme=dark] .colab-df-convert:hover {\n",
              "      background-color: #434B5C;\n",
              "      box-shadow: 0px 1px 3px 1px rgba(0, 0, 0, 0.15);\n",
              "      filter: drop-shadow(0px 1px 2px rgba(0, 0, 0, 0.3));\n",
              "      fill: #FFFFFF;\n",
              "    }\n",
              "  </style>\n",
              "\n",
              "      <script>\n",
              "        const buttonEl =\n",
              "          document.querySelector('#df-7d2bb210-894e-4ce9-a42f-efc887b34c03 button.colab-df-convert');\n",
              "        buttonEl.style.display =\n",
              "          google.colab.kernel.accessAllowed ? 'block' : 'none';\n",
              "\n",
              "        async function convertToInteractive(key) {\n",
              "          const element = document.querySelector('#df-7d2bb210-894e-4ce9-a42f-efc887b34c03');\n",
              "          const dataTable =\n",
              "            await google.colab.kernel.invokeFunction('convertToInteractive',\n",
              "                                                     [key], {});\n",
              "          if (!dataTable) return;\n",
              "\n",
              "          const docLinkHtml = 'Like what you see? Visit the ' +\n",
              "            '<a target=\"_blank\" href=https://colab.research.google.com/notebooks/data_table.ipynb>data table notebook</a>'\n",
              "            + ' to learn more about interactive tables.';\n",
              "          element.innerHTML = '';\n",
              "          dataTable['output_type'] = 'display_data';\n",
              "          await google.colab.output.renderOutput(dataTable, element);\n",
              "          const docLink = document.createElement('div');\n",
              "          docLink.innerHTML = docLinkHtml;\n",
              "          element.appendChild(docLink);\n",
              "        }\n",
              "      </script>\n",
              "    </div>\n",
              "  </div>\n",
              "  "
            ]
          },
          "metadata": {},
          "execution_count": 34
        }
      ]
    },
    {
      "cell_type": "code",
      "source": [
        "null_value = dev_data.loc[dev_data['Next'].isnull()]\n",
        "null_value"
      ],
      "metadata": {
        "colab": {
          "base_uri": "https://localhost:8080/",
          "height": 49
        },
        "outputId": "ba975918-a4da-488d-82c2-1d3d797fb2ba",
        "id": "ZvwHls-wGh70"
      },
      "execution_count": null,
      "outputs": [
        {
          "output_type": "execute_result",
          "data": {
            "text/plain": [
              "Empty DataFrame\n",
              "Columns: [ID, Language, MWE, Previous, Target, Next, DataID, Label]\n",
              "Index: []"
            ],
            "text/html": [
              "\n",
              "  <div id=\"df-bb8fa3e5-33a6-4906-b83b-9a804eb17391\">\n",
              "    <div class=\"colab-df-container\">\n",
              "      <div>\n",
              "<style scoped>\n",
              "    .dataframe tbody tr th:only-of-type {\n",
              "        vertical-align: middle;\n",
              "    }\n",
              "\n",
              "    .dataframe tbody tr th {\n",
              "        vertical-align: top;\n",
              "    }\n",
              "\n",
              "    .dataframe thead th {\n",
              "        text-align: right;\n",
              "    }\n",
              "</style>\n",
              "<table border=\"1\" class=\"dataframe\">\n",
              "  <thead>\n",
              "    <tr style=\"text-align: right;\">\n",
              "      <th></th>\n",
              "      <th>ID</th>\n",
              "      <th>Language</th>\n",
              "      <th>MWE</th>\n",
              "      <th>Previous</th>\n",
              "      <th>Target</th>\n",
              "      <th>Next</th>\n",
              "      <th>DataID</th>\n",
              "      <th>Label</th>\n",
              "    </tr>\n",
              "  </thead>\n",
              "  <tbody>\n",
              "  </tbody>\n",
              "</table>\n",
              "</div>\n",
              "      <button class=\"colab-df-convert\" onclick=\"convertToInteractive('df-bb8fa3e5-33a6-4906-b83b-9a804eb17391')\"\n",
              "              title=\"Convert this dataframe to an interactive table.\"\n",
              "              style=\"display:none;\">\n",
              "        \n",
              "  <svg xmlns=\"http://www.w3.org/2000/svg\" height=\"24px\"viewBox=\"0 0 24 24\"\n",
              "       width=\"24px\">\n",
              "    <path d=\"M0 0h24v24H0V0z\" fill=\"none\"/>\n",
              "    <path d=\"M18.56 5.44l.94 2.06.94-2.06 2.06-.94-2.06-.94-.94-2.06-.94 2.06-2.06.94zm-11 1L8.5 8.5l.94-2.06 2.06-.94-2.06-.94L8.5 2.5l-.94 2.06-2.06.94zm10 10l.94 2.06.94-2.06 2.06-.94-2.06-.94-.94-2.06-.94 2.06-2.06.94z\"/><path d=\"M17.41 7.96l-1.37-1.37c-.4-.4-.92-.59-1.43-.59-.52 0-1.04.2-1.43.59L10.3 9.45l-7.72 7.72c-.78.78-.78 2.05 0 2.83L4 21.41c.39.39.9.59 1.41.59.51 0 1.02-.2 1.41-.59l7.78-7.78 2.81-2.81c.8-.78.8-2.07 0-2.86zM5.41 20L4 18.59l7.72-7.72 1.47 1.35L5.41 20z\"/>\n",
              "  </svg>\n",
              "      </button>\n",
              "      \n",
              "  <style>\n",
              "    .colab-df-container {\n",
              "      display:flex;\n",
              "      flex-wrap:wrap;\n",
              "      gap: 12px;\n",
              "    }\n",
              "\n",
              "    .colab-df-convert {\n",
              "      background-color: #E8F0FE;\n",
              "      border: none;\n",
              "      border-radius: 50%;\n",
              "      cursor: pointer;\n",
              "      display: none;\n",
              "      fill: #1967D2;\n",
              "      height: 32px;\n",
              "      padding: 0 0 0 0;\n",
              "      width: 32px;\n",
              "    }\n",
              "\n",
              "    .colab-df-convert:hover {\n",
              "      background-color: #E2EBFA;\n",
              "      box-shadow: 0px 1px 2px rgba(60, 64, 67, 0.3), 0px 1px 3px 1px rgba(60, 64, 67, 0.15);\n",
              "      fill: #174EA6;\n",
              "    }\n",
              "\n",
              "    [theme=dark] .colab-df-convert {\n",
              "      background-color: #3B4455;\n",
              "      fill: #D2E3FC;\n",
              "    }\n",
              "\n",
              "    [theme=dark] .colab-df-convert:hover {\n",
              "      background-color: #434B5C;\n",
              "      box-shadow: 0px 1px 3px 1px rgba(0, 0, 0, 0.15);\n",
              "      filter: drop-shadow(0px 1px 2px rgba(0, 0, 0, 0.3));\n",
              "      fill: #FFFFFF;\n",
              "    }\n",
              "  </style>\n",
              "\n",
              "      <script>\n",
              "        const buttonEl =\n",
              "          document.querySelector('#df-bb8fa3e5-33a6-4906-b83b-9a804eb17391 button.colab-df-convert');\n",
              "        buttonEl.style.display =\n",
              "          google.colab.kernel.accessAllowed ? 'block' : 'none';\n",
              "\n",
              "        async function convertToInteractive(key) {\n",
              "          const element = document.querySelector('#df-bb8fa3e5-33a6-4906-b83b-9a804eb17391');\n",
              "          const dataTable =\n",
              "            await google.colab.kernel.invokeFunction('convertToInteractive',\n",
              "                                                     [key], {});\n",
              "          if (!dataTable) return;\n",
              "\n",
              "          const docLinkHtml = 'Like what you see? Visit the ' +\n",
              "            '<a target=\"_blank\" href=https://colab.research.google.com/notebooks/data_table.ipynb>data table notebook</a>'\n",
              "            + ' to learn more about interactive tables.';\n",
              "          element.innerHTML = '';\n",
              "          dataTable['output_type'] = 'display_data';\n",
              "          await google.colab.output.renderOutput(dataTable, element);\n",
              "          const docLink = document.createElement('div');\n",
              "          docLink.innerHTML = docLinkHtml;\n",
              "          element.appendChild(docLink);\n",
              "        }\n",
              "      </script>\n",
              "    </div>\n",
              "  </div>\n",
              "  "
            ]
          },
          "metadata": {},
          "execution_count": 35
        }
      ]
    },
    {
      "cell_type": "code",
      "source": [
        "dev_data=dev_data.dropna()"
      ],
      "metadata": {
        "id": "kIvR4MPtGh70"
      },
      "execution_count": null,
      "outputs": []
    },
    {
      "cell_type": "markdown",
      "source": [
        "### **Language Column**"
      ],
      "metadata": {
        "id": "b_210JhkGh70"
      }
    },
    {
      "cell_type": "code",
      "source": [
        "english_data_d=dev_data.loc[dev_data['Language'] =='EN']\n",
        "portuguese_data_d=dev_data.loc[dev_data['Language'] =='PT']"
      ],
      "metadata": {
        "id": "Z_-92URrGh71"
      },
      "execution_count": null,
      "outputs": []
    },
    {
      "cell_type": "code",
      "source": [
        "language_classes = dev_data.Language.unique()\n",
        "language_counts = []\n",
        "\n",
        "for i in language_classes:\n",
        "  count = len(dev_data[dev_data.Language==i])\n",
        "  language_counts.append(count)\n",
        "\n",
        "plt.figure(figsize=(5,5))\n",
        "plt.bar(language_classes,language_counts,color=['pink','maroon'])\n",
        "plt.title(\"Language Classes distribution in Dev Data\")\n",
        "plt.show()\n",
        "\n",
        "print('\\n')\n",
        "print(dev_data['Language'].value_counts())"
      ],
      "metadata": {
        "colab": {
          "base_uri": "https://localhost:8080/",
          "height": 428
        },
        "outputId": "f2d1f1bd-7b42-45ea-bff1-2c36052d9d1c",
        "id": "eybfH3H-Gh71"
      },
      "execution_count": null,
      "outputs": [
        {
          "output_type": "display_data",
          "data": {
            "text/plain": [
              "<Figure size 360x360 with 1 Axes>"
            ],
            "image/png": "[encoded data removed]"
          },
          "metadata": {
            "needs_background": "light"
          }
        },
        {
          "output_type": "stream",
          "name": "stdout",
          "text": [
            "\n",
            "\n",
            "EN    466\n",
            "PT    273\n",
            "Name: Language, dtype: int64\n"
          ]
        }
      ]
    },
    {
      "cell_type": "markdown",
      "source": [
        "`About 62% of the rows are in English at 83 where as only 38% of it are in Portuguese at 53`\n",
        "\n",
        "---\n",
        "\n",
        "\n",
        "\n",
        "\n"
      ],
      "metadata": {
        "id": "r_tht-MGGh71"
      }
    },
    {
      "cell_type": "markdown",
      "source": [
        "### **Idioms or not?**"
      ],
      "metadata": {
        "id": "7YE78WaYGh71"
      }
    },
    {
      "cell_type": "code",
      "source": [
        "idiomatic_classes = dev_data.Label.unique()\n",
        "idiomatic_counts = []\n",
        "\n",
        "for i in idiomatic_classes:\n",
        "  count = len(dev_data[dev_data.Label==i])\n",
        "  idiomatic_counts.append(count)\n",
        "\n",
        "explode = [0.1, 0]\n",
        "fig, ax = plt.subplots(figsize=(5,5))\n",
        "\n",
        "patches, texts, pcts = ax.pie(\n",
        "    idiomatic_counts, labels=['Not Idiomatic','Idiomatic',], autopct='%.1f%%',\n",
        "    textprops={'size': 'x-large'}\n",
        "    ,shadow=True,explode=explode)\n",
        "for i, patch in enumerate(patches):\n",
        "  texts[i].set_color(patch.get_facecolor())\n",
        "plt.setp(pcts, color='white')\n",
        "plt.setp(texts, fontweight=1000)\n",
        "plt.title(\"Label Distribution in Dev Data\")\n",
        "\n",
        "plt.tight_layout()\n",
        "\n",
        "print('\\n')\n",
        "print(dev_data['Label'].value_counts())"
      ],
      "metadata": {
        "colab": {
          "base_uri": "https://localhost:8080/",
          "height": 461
        },
        "outputId": "c7f1274c-c7d1-4f47-a859-099305fd75b9",
        "id": "X9ofXhJfGh72"
      },
      "execution_count": null,
      "outputs": [
        {
          "output_type": "stream",
          "name": "stdout",
          "text": [
            "\n",
            "\n",
            "1    403\n",
            "0    336\n",
            "Name: Label, dtype: int64\n"
          ]
        },
        {
          "output_type": "display_data",
          "data": {
            "text/plain": [
              "<Figure size 360x360 with 1 Axes>"
            ],
            "image/png": "[encoded data removed]"
          },
          "metadata": {}
        }
      ]
    },
    {
      "cell_type": "markdown",
      "source": [
        "### **MWE Column**"
      ],
      "metadata": {
        "id": "agpc1JZhGh72"
      }
    },
    {
      "cell_type": "code",
      "source": [
        "dev_data['MWE'].value_counts().count()"
      ],
      "metadata": {
        "colab": {
          "base_uri": "https://localhost:8080/"
        },
        "outputId": "12587c6d-7125-4fe3-efeb-8dd643d7628b",
        "id": "wBQ0Wh4EGh72"
      },
      "execution_count": null,
      "outputs": [
        {
          "output_type": "execute_result",
          "data": {
            "text/plain": [
              "50"
            ]
          },
          "metadata": {},
          "execution_count": 40
        }
      ]
    },
    {
      "cell_type": "code",
      "source": [
        "english_data_d['MWE'].value_counts().count()"
      ],
      "metadata": {
        "colab": {
          "base_uri": "https://localhost:8080/"
        },
        "outputId": "3e5a8004-8d4c-405e-df43-1ebcd22b5ec0",
        "id": "8-tzd04XGh72"
      },
      "execution_count": null,
      "outputs": [
        {
          "output_type": "execute_result",
          "data": {
            "text/plain": [
              "30"
            ]
          },
          "metadata": {},
          "execution_count": 41
        }
      ]
    },
    {
      "cell_type": "code",
      "source": [
        "mwe= english_data_d['MWE'].value_counts().rename_axis('MWE').reset_index(name='Quantity')\n",
        "\n",
        "mwe=mwe.head(20)\n",
        "\n",
        "plt.figure(figsize=(7,10))\n",
        "sns.barplot(y='MWE',x='Quantity',data=mwe)\n"
      ],
      "metadata": {
        "colab": {
          "base_uri": "https://localhost:8080/",
          "height": 624
        },
        "id": "1jLmzoy7bSDN",
        "outputId": "f140f98e-ed15-459e-cdce-7b8fb54aca2d"
      },
      "execution_count": null,
      "outputs": [
        {
          "output_type": "execute_result",
          "data": {
            "text/plain": [
              "<matplotlib.axes._subplots.AxesSubplot at 0x7f088ae06910>"
            ]
          },
          "metadata": {},
          "execution_count": 42
        },
        {
          "output_type": "display_data",
          "data": {
            "text/plain": [
              "<Figure size 504x720 with 1 Axes>"
            ],
            "image/png": "[encoded data removed]"
          },
          "metadata": {
            "needs_background": "light"
          }
        }
      ]
    },
    {
      "cell_type": "code",
      "source": [
        "portuguese_data_d['MWE'].value_counts().count()"
      ],
      "metadata": {
        "colab": {
          "base_uri": "https://localhost:8080/"
        },
        "outputId": "0072f4ea-d42e-4341-e29c-87181ae44196",
        "id": "iRr6SOgLGh73"
      },
      "execution_count": null,
      "outputs": [
        {
          "output_type": "execute_result",
          "data": {
            "text/plain": [
              "20"
            ]
          },
          "metadata": {},
          "execution_count": 43
        }
      ]
    },
    {
      "cell_type": "code",
      "source": [
        "mwe= portuguese_data_d['MWE'].value_counts().rename_axis('MWE').reset_index(name='Quantity')\n",
        "\n",
        "mwe=mwe.head(20)\n",
        "\n",
        "plt.figure(figsize=(7,10))\n",
        "sns.barplot(y='MWE',x='Quantity',data=mwe)\n"
      ],
      "metadata": {
        "colab": {
          "base_uri": "https://localhost:8080/",
          "height": 624
        },
        "id": "1Vut5me5bS6N",
        "outputId": "c931090a-0480-4339-ea27-25ec458329be"
      },
      "execution_count": null,
      "outputs": [
        {
          "output_type": "execute_result",
          "data": {
            "text/plain": [
              "<matplotlib.axes._subplots.AxesSubplot at 0x7f088ad99310>"
            ]
          },
          "metadata": {},
          "execution_count": 44
        },
        {
          "output_type": "display_data",
          "data": {
            "text/plain": [
              "<Figure size 504x720 with 1 Axes>"
            ],
            "image/png": "[encoded data removed]"
          },
          "metadata": {
            "needs_background": "light"
          }
        }
      ]
    },
    {
      "cell_type": "markdown",
      "source": [
        "There are total of 50 MWE in this dataset. 30 were in English and 20 were in Portuguese."
      ],
      "metadata": {
        "id": "Jm0ekZsZGh73"
      }
    },
    {
      "cell_type": "markdown",
      "source": [
        "### **Comparision of Zero-Shot Training Data, One-Shot Training Data & Dev Data**"
      ],
      "metadata": {
        "id": "Unmr0HNbL-f6"
      }
    },
    {
      "cell_type": "code",
      "source": [
        "zero_one = set(train_data.MWE) & set(train_one_data.MWE)\n",
        "len(zero_one)"
      ],
      "metadata": {
        "colab": {
          "base_uri": "https://localhost:8080/"
        },
        "id": "w10Z_BQpJ8zF",
        "outputId": "54789600-ecfd-4b1f-c6ef-a8012a82292f"
      },
      "execution_count": null,
      "outputs": [
        {
          "output_type": "execute_result",
          "data": {
            "text/plain": [
              "0"
            ]
          },
          "metadata": {},
          "execution_count": 45
        }
      ]
    },
    {
      "cell_type": "code",
      "source": [
        "zero_dev = set(train_data.MWE) & set(dev_data.MWE)\n",
        "len(zero_dev)"
      ],
      "metadata": {
        "colab": {
          "base_uri": "https://localhost:8080/"
        },
        "id": "5Tg0TX6SLhE0",
        "outputId": "dbc6c3a1-82d5-4f7e-bd43-86b9d1fae7c7"
      },
      "execution_count": null,
      "outputs": [
        {
          "output_type": "execute_result",
          "data": {
            "text/plain": [
              "0"
            ]
          },
          "metadata": {},
          "execution_count": 46
        }
      ]
    },
    {
      "cell_type": "code",
      "source": [
        "one_dev = set(train_one_data.MWE) & set(dev_data.MWE)\n",
        "# one_dev\n",
        "len(one_dev)"
      ],
      "metadata": {
        "colab": {
          "base_uri": "https://localhost:8080/"
        },
        "id": "Ci72indaLnK9",
        "outputId": "92b36725-b134-4f53-a1b9-df354942fcef"
      },
      "execution_count": null,
      "outputs": [
        {
          "output_type": "execute_result",
          "data": {
            "text/plain": [
              "50"
            ]
          },
          "metadata": {},
          "execution_count": 47
        }
      ]
    },
    {
      "cell_type": "markdown",
      "source": [
        "There is no overlapping of MWE in one-shot and zero-shot training data. Furthermore, all the MWE that are present in dev data are all present in one-shot data."
      ],
      "metadata": {
        "id": "2mtK14yKV4mF"
      }
    }
  ],
  "metadata": {
    "accelerator": "GPU",
    "colab": {
      "provenance": []
    },
    "kernelspec": {
      "display_name": "Python 3",
      "name": "python3"
    },
    "language_info": {
      "name": "python"
    }
  },
  "nbformat": 4,
  "nbformat_minor": 0
}